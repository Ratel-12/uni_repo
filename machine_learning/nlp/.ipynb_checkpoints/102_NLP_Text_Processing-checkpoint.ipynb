{
 "cells": [
  {
   "cell_type": "markdown",
   "metadata": {},
   "source": [
    "# NLP Text Processing methods\n",
    "\n",
    "\n"
   ]
  },
  {
   "cell_type": "markdown",
   "metadata": {},
   "source": [
    "### NLTK\n",
    "\n",
    "We can use some available data sets for educational purpose. One of such source are NLTK book corporas. To download it we need to do the following:"
   ]
  },
  {
   "cell_type": "code",
   "execution_count": 1,
   "metadata": {},
   "outputs": [
    {
     "name": "stderr",
     "output_type": "stream",
     "text": [
      "[nltk_data] Downloading collection 'book'\n",
      "[nltk_data]    | \n",
      "[nltk_data]    | Downloading package abc to\n",
      "[nltk_data]    |     /home/kprzystalski/nltk_data...\n",
      "[nltk_data]    |   Package abc is already up-to-date!\n",
      "[nltk_data]    | Downloading package brown to\n",
      "[nltk_data]    |     /home/kprzystalski/nltk_data...\n",
      "[nltk_data]    |   Package brown is already up-to-date!\n",
      "[nltk_data]    | Downloading package chat80 to\n",
      "[nltk_data]    |     /home/kprzystalski/nltk_data...\n",
      "[nltk_data]    |   Package chat80 is already up-to-date!\n",
      "[nltk_data]    | Downloading package cmudict to\n",
      "[nltk_data]    |     /home/kprzystalski/nltk_data...\n",
      "[nltk_data]    |   Package cmudict is already up-to-date!\n",
      "[nltk_data]    | Downloading package conll2000 to\n",
      "[nltk_data]    |     /home/kprzystalski/nltk_data...\n",
      "[nltk_data]    |   Package conll2000 is already up-to-date!\n",
      "[nltk_data]    | Downloading package conll2002 to\n",
      "[nltk_data]    |     /home/kprzystalski/nltk_data...\n",
      "[nltk_data]    |   Package conll2002 is already up-to-date!\n",
      "[nltk_data]    | Downloading package dependency_treebank to\n",
      "[nltk_data]    |     /home/kprzystalski/nltk_data...\n",
      "[nltk_data]    |   Package dependency_treebank is already up-to-date!\n",
      "[nltk_data]    | Downloading package genesis to\n",
      "[nltk_data]    |     /home/kprzystalski/nltk_data...\n",
      "[nltk_data]    |   Package genesis is already up-to-date!\n",
      "[nltk_data]    | Downloading package gutenberg to\n",
      "[nltk_data]    |     /home/kprzystalski/nltk_data...\n",
      "[nltk_data]    |   Package gutenberg is already up-to-date!\n",
      "[nltk_data]    | Downloading package ieer to\n",
      "[nltk_data]    |     /home/kprzystalski/nltk_data...\n",
      "[nltk_data]    |   Package ieer is already up-to-date!\n",
      "[nltk_data]    | Downloading package inaugural to\n",
      "[nltk_data]    |     /home/kprzystalski/nltk_data...\n",
      "[nltk_data]    |   Package inaugural is already up-to-date!\n",
      "[nltk_data]    | Downloading package movie_reviews to\n",
      "[nltk_data]    |     /home/kprzystalski/nltk_data...\n",
      "[nltk_data]    |   Package movie_reviews is already up-to-date!\n",
      "[nltk_data]    | Downloading package nps_chat to\n",
      "[nltk_data]    |     /home/kprzystalski/nltk_data...\n",
      "[nltk_data]    |   Package nps_chat is already up-to-date!\n",
      "[nltk_data]    | Downloading package names to\n",
      "[nltk_data]    |     /home/kprzystalski/nltk_data...\n",
      "[nltk_data]    |   Package names is already up-to-date!\n",
      "[nltk_data]    | Downloading package ppattach to\n",
      "[nltk_data]    |     /home/kprzystalski/nltk_data...\n",
      "[nltk_data]    |   Package ppattach is already up-to-date!\n",
      "[nltk_data]    | Downloading package reuters to\n",
      "[nltk_data]    |     /home/kprzystalski/nltk_data...\n",
      "[nltk_data]    |   Package reuters is already up-to-date!\n",
      "[nltk_data]    | Downloading package senseval to\n",
      "[nltk_data]    |     /home/kprzystalski/nltk_data...\n",
      "[nltk_data]    |   Package senseval is already up-to-date!\n",
      "[nltk_data]    | Downloading package state_union to\n",
      "[nltk_data]    |     /home/kprzystalski/nltk_data...\n",
      "[nltk_data]    |   Package state_union is already up-to-date!\n",
      "[nltk_data]    | Downloading package stopwords to\n",
      "[nltk_data]    |     /home/kprzystalski/nltk_data...\n",
      "[nltk_data]    |   Package stopwords is already up-to-date!\n",
      "[nltk_data]    | Downloading package swadesh to\n",
      "[nltk_data]    |     /home/kprzystalski/nltk_data...\n",
      "[nltk_data]    |   Package swadesh is already up-to-date!\n",
      "[nltk_data]    | Downloading package timit to\n",
      "[nltk_data]    |     /home/kprzystalski/nltk_data...\n",
      "[nltk_data]    |   Package timit is already up-to-date!\n",
      "[nltk_data]    | Downloading package treebank to\n",
      "[nltk_data]    |     /home/kprzystalski/nltk_data...\n",
      "[nltk_data]    |   Package treebank is already up-to-date!\n",
      "[nltk_data]    | Downloading package toolbox to\n",
      "[nltk_data]    |     /home/kprzystalski/nltk_data...\n",
      "[nltk_data]    |   Package toolbox is already up-to-date!\n",
      "[nltk_data]    | Downloading package udhr to\n",
      "[nltk_data]    |     /home/kprzystalski/nltk_data...\n",
      "[nltk_data]    |   Package udhr is already up-to-date!\n",
      "[nltk_data]    | Downloading package udhr2 to\n",
      "[nltk_data]    |     /home/kprzystalski/nltk_data...\n",
      "[nltk_data]    |   Package udhr2 is already up-to-date!\n",
      "[nltk_data]    | Downloading package unicode_samples to\n",
      "[nltk_data]    |     /home/kprzystalski/nltk_data...\n",
      "[nltk_data]    |   Package unicode_samples is already up-to-date!\n",
      "[nltk_data]    | Downloading package webtext to\n",
      "[nltk_data]    |     /home/kprzystalski/nltk_data...\n",
      "[nltk_data]    |   Package webtext is already up-to-date!\n",
      "[nltk_data]    | Downloading package wordnet to\n",
      "[nltk_data]    |     /home/kprzystalski/nltk_data...\n",
      "[nltk_data]    |   Package wordnet is already up-to-date!\n",
      "[nltk_data]    | Downloading package wordnet_ic to\n",
      "[nltk_data]    |     /home/kprzystalski/nltk_data...\n",
      "[nltk_data]    |   Package wordnet_ic is already up-to-date!\n",
      "[nltk_data]    | Downloading package words to\n",
      "[nltk_data]    |     /home/kprzystalski/nltk_data...\n",
      "[nltk_data]    |   Package words is already up-to-date!\n",
      "[nltk_data]    | Downloading package maxent_treebank_pos_tagger to\n",
      "[nltk_data]    |     /home/kprzystalski/nltk_data...\n",
      "[nltk_data]    |   Package maxent_treebank_pos_tagger is already up-\n",
      "[nltk_data]    |       to-date!\n",
      "[nltk_data]    | Downloading package maxent_ne_chunker to\n",
      "[nltk_data]    |     /home/kprzystalski/nltk_data...\n",
      "[nltk_data]    |   Package maxent_ne_chunker is already up-to-date!\n",
      "[nltk_data]    | Downloading package universal_tagset to\n",
      "[nltk_data]    |     /home/kprzystalski/nltk_data...\n",
      "[nltk_data]    |   Package universal_tagset is already up-to-date!\n",
      "[nltk_data]    | Downloading package punkt to\n",
      "[nltk_data]    |     /home/kprzystalski/nltk_data...\n",
      "[nltk_data]    |   Package punkt is already up-to-date!\n",
      "[nltk_data]    | Downloading package book_grammars to\n",
      "[nltk_data]    |     /home/kprzystalski/nltk_data...\n",
      "[nltk_data]    |   Package book_grammars is already up-to-date!\n",
      "[nltk_data]    | Downloading package city_database to\n",
      "[nltk_data]    |     /home/kprzystalski/nltk_data...\n",
      "[nltk_data]    |   Package city_database is already up-to-date!\n",
      "[nltk_data]    | Downloading package tagsets to\n",
      "[nltk_data]    |     /home/kprzystalski/nltk_data...\n",
      "[nltk_data]    |   Package tagsets is already up-to-date!\n",
      "[nltk_data]    | Downloading package panlex_swadesh to\n",
      "[nltk_data]    |     /home/kprzystalski/nltk_data...\n",
      "[nltk_data]    |   Package panlex_swadesh is already up-to-date!\n",
      "[nltk_data]    | Downloading package averaged_perceptron_tagger to\n",
      "[nltk_data]    |     /home/kprzystalski/nltk_data...\n",
      "[nltk_data]    |   Package averaged_perceptron_tagger is already up-\n",
      "[nltk_data]    |       to-date!\n",
      "[nltk_data]    | \n",
      "[nltk_data]  Done downloading collection book\n"
     ]
    },
    {
     "data": {
      "text/plain": [
       "True"
      ]
     },
     "execution_count": 1,
     "metadata": {},
     "output_type": "execute_result"
    }
   ],
   "source": [
    "import nltk\n",
    "nltk.download('book')"
   ]
  },
  {
   "cell_type": "markdown",
   "metadata": {},
   "source": [
    "To check what kind of books are available we need to import these and print the list as following:"
   ]
  },
  {
   "cell_type": "code",
   "execution_count": 2,
   "metadata": {},
   "outputs": [
    {
     "name": "stdout",
     "output_type": "stream",
     "text": [
      "*** Introductory Examples for the NLTK Book ***\n",
      "Loading text1, ..., text9 and sent1, ..., sent9\n",
      "Type the name of the text or sentence to view it.\n",
      "Type: 'texts()' or 'sents()' to list the materials.\n",
      "text1: Moby Dick by Herman Melville 1851\n",
      "text2: Sense and Sensibility by Jane Austen 1811\n",
      "text3: The Book of Genesis\n",
      "text4: Inaugural Address Corpus\n",
      "text5: Chat Corpus\n",
      "text6: Monty Python and the Holy Grail\n",
      "text7: Wall Street Journal\n",
      "text8: Personals Corpus\n",
      "text9: The Man Who Was Thursday by G . K . Chesterton 1908\n",
      "text1: Moby Dick by Herman Melville 1851\n",
      "text2: Sense and Sensibility by Jane Austen 1811\n",
      "text3: The Book of Genesis\n",
      "text4: Inaugural Address Corpus\n",
      "text5: Chat Corpus\n",
      "text6: Monty Python and the Holy Grail\n",
      "text7: Wall Street Journal\n",
      "text8: Personals Corpus\n",
      "text9: The Man Who Was Thursday by G . K . Chesterton 1908\n"
     ]
    }
   ],
   "source": [
    "from nltk.book import *\n",
    "texts()"
   ]
  },
  {
   "cell_type": "markdown",
   "metadata": {},
   "source": [
    "NLTK Text object does have some useful methods that you can find here: [NLTK Text Docs](http://www.nltk.org/api/nltk.html#nltk.text.Text). Some are used below."
   ]
  },
  {
   "cell_type": "markdown",
   "metadata": {},
   "source": [
    "#### Word and sentences similarity\n",
    "\n",
    "Word does have different meanings. This makes the comparison and analysis a bit more complex."
   ]
  },
  {
   "cell_type": "code",
   "execution_count": 3,
   "metadata": {},
   "outputs": [
    {
     "name": "stdout",
     "output_type": "stream",
     "text": [
      "Displaying 25 of 38 matches:\n",
      "CENE 1 : [ wind ] [ clop clop clop ] KING ARTHUR : Whoa there ! [ clop clop cl\n",
      "ragon , from the castle of Camelot . King of the Britons , defeator of the Sax\n",
      " CART - MASTER : I dunno . Must be a king . CUSTOMER : Why ? CART - MASTER : H\n",
      " all over him . SCENE 3 : [ thud ] [ King Arthur music ] [ thud thud thud ] [ \n",
      " Arthur music ] [ thud thud thud ] [ King Arthur music stops ] ARTHUR : Old wo\n",
      "e an inferior ! ARTHUR : Well , I am king ! DENNIS : Oh king , eh , very nice \n",
      "HUR : Well , I am king ! DENNIS : Oh king , eh , very nice . And how d ' you g\n",
      "o you do , good lady . I am Arthur , King of the Britons . Who ' s castle is t\n",
      "s . Who ' s castle is that ? WOMAN : King of the who ? ARTHUR : The Britons . \n",
      ". We are all Britons , and I am your king . WOMAN : I didn ' t know we had a k\n",
      "g . WOMAN : I didn ' t know we had a king . I thought we were an autonomous co\n",
      "ink he is ? Heh . ARTHUR : I am your king ! WOMAN : Well , I didn ' t vote for\n",
      " . WOMAN : Well , how did you become king then ? ARTHUR : The Lady of the Lake\n",
      "inging stops ] That is why I am your king ! DENNIS : Listen , strange women ly\n",
      "ou saw it , didn ' t you SCENE 4 : [ King Arthur music ] [ music stops ] BLACK\n",
      "sic stops ] BLACK KNIGHT : Aaagh ! [ King Arthur music ] [ music stops ] BLACK\n",
      "GHT : Aaagh ! GREEN KNIGHT : Ooh ! [ King Arthur music ] [ music stops ] [ sta\n",
      "NIGHT : Aagh ! GREEN KNIGHT : Oh ! [ King Arthur music ] Ooh ! [ music stops ]\n",
      "Sir Knight . [ pause ] I am Arthur , King of the Britons . [ pause ] I seek th\n",
      "ll die . ARTHUR : I command you , as King of the Britons , to stand aside ! BL\n",
      " of science ? ARTHUR : I am Arthur , King of the Britons . BEDEVERE : My liege\n",
      "e Sir Bedevere was the first to join King Arthur ' s knights , but other illus\n",
      "ngels sing ] GOD : Arthur ! Arthur , King of the Britons ! Oh , don ' t grovel\n",
      " Yes , Lord . GOD : Right ! Arthur , King of the Britons , your Knights of the\n",
      "GALAHAD : God be praised SCENE 8 : [ King Arthur music ] [ clop clop clop ] AR\n"
     ]
    },
    {
     "data": {
      "text/plain": [
       "27"
      ]
     },
     "execution_count": 3,
     "metadata": {},
     "output_type": "execute_result"
    }
   ],
   "source": [
    "text6.concordance(\"King\")\n",
    "\n",
    "text6.count(\"King\")"
   ]
  },
  {
   "cell_type": "markdown",
   "metadata": {},
   "source": [
    "We can also build a Corpus from a plain text. See the example below."
   ]
  },
  {
   "cell_type": "code",
   "execution_count": 4,
   "metadata": {},
   "outputs": [
    {
     "name": "stdout",
     "output_type": "stream",
     "text": [
      "<PlaintextCorpusReader in '/home/kprzystalski/workshop/solutions/datasets'>\n"
     ]
    },
    {
     "data": {
      "text/plain": [
       "['Thank', 'you', 'very', 'much', '.', 'Mr', '.', ...]"
      ]
     },
     "execution_count": 4,
     "metadata": {},
     "output_type": "execute_result"
    }
   ],
   "source": [
    "from nltk.corpus import PlaintextCorpusReader\n",
    "from nltk.tokenize.regexp import WordPunctTokenizer\n",
    "from nltk.data import LazyLoader\n",
    "\n",
    "trump = PlaintextCorpusReader('../datasets/','trump.txt',word_tokenizer=WordPunctTokenizer(),\n",
    "             sent_tokenizer=LazyLoader(\n",
    "                 'tokenizers/punkt/english.pickle'),\n",
    "             encoding='utf8')\n",
    "print(trump)\n",
    "trump.words()"
   ]
  },
  {
   "cell_type": "markdown",
   "metadata": {},
   "source": [
    "Corpuses contain large amount of texts, say multiple books, couple hundreds of articles from various magazines etc. NLTK has chosen a few books from over 25,000 pieces available in the whole dataset. We are going to pick Bible and Shakespeare's Macbeth in order to compare a few statistics between them. Let's take a look at other corporas and check the gutenberg and check the word distribution:"
   ]
  },
  {
   "cell_type": "code",
   "execution_count": 5,
   "metadata": {},
   "outputs": [
    {
     "name": "stdout",
     "output_type": "stream",
     "text": [
      "Books available in gutenberg dataset:\n"
     ]
    },
    {
     "name": "stderr",
     "output_type": "stream",
     "text": [
      "[nltk_data] Downloading package gutenberg to\n",
      "[nltk_data]     /home/kprzystalski/nltk_data...\n",
      "[nltk_data]   Package gutenberg is already up-to-date!\n",
      "[nltk_data] Downloading package stopwords to\n",
      "[nltk_data]     /home/kprzystalski/nltk_data...\n",
      "[nltk_data]   Package stopwords is already up-to-date!\n"
     ]
    },
    {
     "data": {
      "text/plain": [
       "['austen-emma.txt',\n",
       " 'austen-persuasion.txt',\n",
       " 'austen-sense.txt',\n",
       " 'bible-kjv.txt',\n",
       " 'blake-poems.txt',\n",
       " 'bryant-stories.txt',\n",
       " 'burgess-busterbrown.txt',\n",
       " 'carroll-alice.txt',\n",
       " 'chesterton-ball.txt',\n",
       " 'chesterton-brown.txt',\n",
       " 'chesterton-thursday.txt',\n",
       " 'edgeworth-parents.txt',\n",
       " 'melville-moby_dick.txt',\n",
       " 'milton-paradise.txt',\n",
       " 'shakespeare-caesar.txt',\n",
       " 'shakespeare-hamlet.txt',\n",
       " 'shakespeare-macbeth.txt',\n",
       " 'whitman-leaves.txt']"
      ]
     },
     "execution_count": 5,
     "metadata": {},
     "output_type": "execute_result"
    }
   ],
   "source": [
    "import matplotlib.pyplot as plt\n",
    "import seaborn as sns\n",
    "\n",
    "sns.set_style('whitegrid') # general display style of seaborn\n",
    "# how to display plot in notebook, jupyter's magic command\n",
    "%matplotlib inline \n",
    "\n",
    "# Download necessary texts\n",
    "nltk.download('gutenberg')\n",
    "nltk.download('stopwords')\n",
    "\n",
    "print(\"Books available in gutenberg dataset:\")\n",
    "nltk.corpus.gutenberg.fileids()"
   ]
  },
  {
   "cell_type": "code",
   "execution_count": 6,
   "metadata": {},
   "outputs": [
    {
     "data": {
      "text/plain": [
       "['i',\n",
       " 'me',\n",
       " 'my',\n",
       " 'myself',\n",
       " 'we',\n",
       " 'our',\n",
       " 'ours',\n",
       " 'ourselves',\n",
       " 'you',\n",
       " \"you're\",\n",
       " \"you've\",\n",
       " \"you'll\",\n",
       " \"you'd\",\n",
       " 'your',\n",
       " 'yours',\n",
       " 'yourself',\n",
       " 'yourselves',\n",
       " 'he',\n",
       " 'him',\n",
       " 'his',\n",
       " 'himself',\n",
       " 'she',\n",
       " \"she's\",\n",
       " 'her',\n",
       " 'hers',\n",
       " 'herself',\n",
       " 'it',\n",
       " \"it's\",\n",
       " 'its',\n",
       " 'itself',\n",
       " 'they',\n",
       " 'them',\n",
       " 'their',\n",
       " 'theirs',\n",
       " 'themselves',\n",
       " 'what',\n",
       " 'which',\n",
       " 'who',\n",
       " 'whom',\n",
       " 'this',\n",
       " 'that',\n",
       " \"that'll\",\n",
       " 'these',\n",
       " 'those',\n",
       " 'am',\n",
       " 'is',\n",
       " 'are',\n",
       " 'was',\n",
       " 'were',\n",
       " 'be',\n",
       " 'been',\n",
       " 'being',\n",
       " 'have',\n",
       " 'has',\n",
       " 'had',\n",
       " 'having',\n",
       " 'do',\n",
       " 'does',\n",
       " 'did',\n",
       " 'doing',\n",
       " 'a',\n",
       " 'an',\n",
       " 'the',\n",
       " 'and',\n",
       " 'but',\n",
       " 'if',\n",
       " 'or',\n",
       " 'because',\n",
       " 'as',\n",
       " 'until',\n",
       " 'while',\n",
       " 'of',\n",
       " 'at',\n",
       " 'by',\n",
       " 'for',\n",
       " 'with',\n",
       " 'about',\n",
       " 'against',\n",
       " 'between',\n",
       " 'into',\n",
       " 'through',\n",
       " 'during',\n",
       " 'before',\n",
       " 'after',\n",
       " 'above',\n",
       " 'below',\n",
       " 'to',\n",
       " 'from',\n",
       " 'up',\n",
       " 'down',\n",
       " 'in',\n",
       " 'out',\n",
       " 'on',\n",
       " 'off',\n",
       " 'over',\n",
       " 'under',\n",
       " 'again',\n",
       " 'further',\n",
       " 'then',\n",
       " 'once',\n",
       " 'here',\n",
       " 'there',\n",
       " 'when',\n",
       " 'where',\n",
       " 'why',\n",
       " 'how',\n",
       " 'all',\n",
       " 'any',\n",
       " 'both',\n",
       " 'each',\n",
       " 'few',\n",
       " 'more',\n",
       " 'most',\n",
       " 'other',\n",
       " 'some',\n",
       " 'such',\n",
       " 'no',\n",
       " 'nor',\n",
       " 'not',\n",
       " 'only',\n",
       " 'own',\n",
       " 'same',\n",
       " 'so',\n",
       " 'than',\n",
       " 'too',\n",
       " 'very',\n",
       " 's',\n",
       " 't',\n",
       " 'can',\n",
       " 'will',\n",
       " 'just',\n",
       " 'don',\n",
       " \"don't\",\n",
       " 'should',\n",
       " \"should've\",\n",
       " 'now',\n",
       " 'd',\n",
       " 'll',\n",
       " 'm',\n",
       " 'o',\n",
       " 're',\n",
       " 've',\n",
       " 'y',\n",
       " 'ain',\n",
       " 'aren',\n",
       " \"aren't\",\n",
       " 'couldn',\n",
       " \"couldn't\",\n",
       " 'didn',\n",
       " \"didn't\",\n",
       " 'doesn',\n",
       " \"doesn't\",\n",
       " 'hadn',\n",
       " \"hadn't\",\n",
       " 'hasn',\n",
       " \"hasn't\",\n",
       " 'haven',\n",
       " \"haven't\",\n",
       " 'isn',\n",
       " \"isn't\",\n",
       " 'ma',\n",
       " 'mightn',\n",
       " \"mightn't\",\n",
       " 'mustn',\n",
       " \"mustn't\",\n",
       " 'needn',\n",
       " \"needn't\",\n",
       " 'shan',\n",
       " \"shan't\",\n",
       " 'shouldn',\n",
       " \"shouldn't\",\n",
       " 'wasn',\n",
       " \"wasn't\",\n",
       " 'weren',\n",
       " \"weren't\",\n",
       " 'won',\n",
       " \"won't\",\n",
       " 'wouldn',\n",
       " \"wouldn't\"]"
      ]
     },
     "execution_count": 6,
     "metadata": {},
     "output_type": "execute_result"
    }
   ],
   "source": [
    "nltk.corpus.stopwords.words(\"english\")"
   ]
  },
  {
   "cell_type": "code",
   "execution_count": 7,
   "metadata": {},
   "outputs": [
    {
     "name": "stdout",
     "output_type": "stream",
     "text": [
      "Macbeth richness: 0.17359550561797754\n",
      "Bible richness: 0.01362385148626533\n",
      "Words occuring most often in Bible:\n"
     ]
    },
    {
     "data": {
      "image/png": "[encoded data removed]",
      "text/plain": [
       "<Figure size 432x288 with 1 Axes>"
      ]
     },
     "metadata": {
      "needs_background": "light"
     },
     "output_type": "display_data"
    },
    {
     "data": {
      "text/plain": [
       "<AxesSubplot:xlabel='Samples', ylabel='Counts'>"
      ]
     },
     "metadata": {},
     "output_type": "display_data"
    }
   ],
   "source": [
    "%matplotlib inline\n",
    "\n",
    "def lexical_richness(text: str) -> float:\n",
    "  # Unique words in text divided by the total amount of words\n",
    "  words = nltk.Text(nltk.corpus.gutenberg.words(text))\n",
    "  return len(set(words))/len(words)\n",
    "\n",
    "macbeth = \"shakespeare-macbeth.txt\"\n",
    "bible = \"bible-kjv.txt\"\n",
    "\n",
    "print(\"Macbeth richness: {}\".format(lexical_richness(macbeth)))\n",
    "print(\"Bible richness: {}\".format(lexical_richness(bible)))\n",
    "\n",
    "# Removing stopwords like: , . and or\n",
    "bible_words = [\n",
    "    word\n",
    "    for word in nltk.corpus.gutenberg.words(bible)\n",
    "    if word not in nltk.corpus.stopwords.words(\"english\") and word.isalpha()\n",
    "]\n",
    "\n",
    "words_distribution = nltk.probability.FreqDist(bible_words)\n",
    "print(\"Words occuring most often in Bible:\") \n",
    "display(words_distribution.plot(15))"
   ]
  },
  {
   "cell_type": "markdown",
   "metadata": {},
   "source": [
    "### Regular expression\n",
    "\n",
    "The first solution that comes to our mind when it comes to text processing are regular expression. It is usually the best solution in software development. It is also used in many tools that we have mentioned before. Let's take an example to do a short recap how to use regular expressions in Python."
   ]
  },
  {
   "cell_type": "code",
   "execution_count": 8,
   "metadata": {},
   "outputs": [
    {
     "name": "stdout",
     "output_type": "stream",
     "text": [
      "['JU', 'is', 'a', 'great', 'company', 'with', 'many', 'great', 'developers.']\n"
     ]
    }
   ],
   "source": [
    "example = \"JU is a great company with many great developers.\"\n",
    "\n",
    "import re\n",
    "\n",
    "pattern = \"\\\\s+\"\n",
    "words = re.split(pattern, example)\n",
    "print(words)"
   ]
  },
  {
   "cell_type": "markdown",
   "metadata": {},
   "source": [
    "Python does have some methods for Strings that can do the same as above, but with less code."
   ]
  },
  {
   "cell_type": "code",
   "execution_count": 9,
   "metadata": {},
   "outputs": [
    {
     "name": "stdout",
     "output_type": "stream",
     "text": [
      "['JU', 'is', 'a', 'great', 'company', 'with', 'many', 'great', 'developers.']\n"
     ]
    },
    {
     "data": {
      "text/plain": [
       "['Well,',\n",
       " 'what',\n",
       " 'can',\n",
       " 'I',\n",
       " 'say',\n",
       " 'about',\n",
       " 'regexes?',\n",
       " 'They',\n",
       " 'are',\n",
       " 'quite',\n",
       " 'annoying',\n",
       " 'to',\n",
       " 'be',\n",
       " 'honest,',\n",
       " 'but',\n",
       " 'once',\n",
       " 'you',\n",
       " 'get',\n",
       " 'a',\n",
       " 'grasp',\n",
       " \"you're\",\n",
       " 'gonna',\n",
       " 'be',\n",
       " 'fine.',\n",
       " 'Yeah,',\n",
       " 'I',\n",
       " 'could',\n",
       " 'use',\n",
       " 'some',\n",
       " 'basic',\n",
       " 'boring',\n",
       " 'text,',\n",
       " 'here',\n",
       " 'you',\n",
       " 'go',\n",
       " 'if',\n",
       " \"that's\",\n",
       " 'what',\n",
       " 'you',\n",
       " 'miss:',\n",
       " 'Ala',\n",
       " 'ma',\n",
       " 'kota,',\n",
       " 'kot',\n",
       " 'ma',\n",
       " 'Alę.',\n",
       " 'm?ke',\n",
       " 'a',\n",
       " 'm1sta.e',\n",
       " 'and',\n",
       " 'see',\n",
       " 'what',\n",
       " 'happens...',\n",
       " 'This',\n",
       " 'sentence:',\n",
       " \"'Mr.\",\n",
       " '&',\n",
       " 'Mrs.',\n",
       " 'Smith,',\n",
       " 'been',\n",
       " 'looking',\n",
       " 'for',\n",
       " 'easter',\n",
       " 'egg',\n",
       " 'here,',\n",
       " 'failed.']"
      ]
     },
     "execution_count": 9,
     "metadata": {},
     "output_type": "execute_result"
    }
   ],
   "source": [
    "words = example.split(' ')\n",
    "print(words)\n",
    "\n",
    "text = \"Well, what can I say about regexes? \\\n",
    "They are quite annoying to be honest, but once you get a grasp you're gonna be fine. \\\n",
    "Yeah, I could use some basic boring text, here you go if that's what you miss: \\\n",
    "Ala ma kota, kot ma Alę. m?ke a m1sta.e and see what happens... \\\n",
    "This sentence: 'Mr. & Mrs. Smith, been looking for easter egg here, failed.\"\n",
    "text.split(' ')"
   ]
  },
  {
   "cell_type": "markdown",
   "metadata": {},
   "source": [
    "That was too naive, let's make something more intelligent:"
   ]
  },
  {
   "cell_type": "code",
   "execution_count": 10,
   "metadata": {},
   "outputs": [
    {
     "name": "stdout",
     "output_type": "stream",
     "text": [
      "Using regex:\n"
     ]
    },
    {
     "data": {
      "text/plain": [
       "['Well, what can I say about regexes?',\n",
       " \"They are quite annoying to be honest, but once you get a grasp you're gonna be fine.\",\n",
       " \"Yeah, I could use some basic boring text, here you go if that's what you miss: Ala ma kota, kot ma Alę.\",\n",
       " 'm?ke a m1sta.e and see what happens...',\n",
       " \"This sentence: 'Mr.\",\n",
       " '& Mrs.',\n",
       " 'Smith, been looking for easter egg here, failed.']"
      ]
     },
     "metadata": {},
     "output_type": "display_data"
    }
   ],
   "source": [
    "print(\"Using regex:\")\n",
    "display(re.split('(?<=[.!?]) +',text))"
   ]
  },
  {
   "cell_type": "markdown",
   "metadata": {},
   "source": [
    "Our regex only splits the text if either of . ! ? is followed by one or more whitespace signs. This approach is quite powerful, yet limited (as could be seen), keep in mind it has it's uses but is far from perfect (later we will see more sophisticated approaches).\n",
    "\n",
    "All in all, when faced with a choice: do something using traditional methods or using machine learning, ALWAYS pick the first one."
   ]
  },
  {
   "cell_type": "code",
   "execution_count": 11,
   "metadata": {},
   "outputs": [
    {
     "data": {
      "text/plain": [
       "[', been looking for easter egg here,']"
      ]
     },
     "metadata": {},
     "output_type": "display_data"
    },
    {
     "data": {
      "text/plain": [
       "\"Well, what can I say about regexes? They are quite annoying to be honest, but once you get a grasp you're gonna be fine. Yeah, I could use some basic boring text, here you go if that's what you miss: Ala ma kota, kot ma Alę. m?ke a m1sta.e and see what happens... This sentence: 'Now works like a charm but life failed.\""
      ]
     },
     "execution_count": 11,
     "metadata": {},
     "output_type": "execute_result"
    }
   ],
   "source": [
    "# Examples of some other regex functions\n",
    "\n",
    "text = re.sub(r\"Mr. & Mrs. Smith\", \"Now works like a charm\", text) #substitute string\n",
    "found_text = re.findall(\", been .*,\", text) # find all occurences of string\n",
    "display(found_text)\n",
    "\n",
    "# findall returns list, we need to access it's element\n",
    "re.sub(found_text[0], \" but life\", text)"
   ]
  },
  {
   "cell_type": "markdown",
   "metadata": {},
   "source": [
    "### Tokenization\n",
    "\n",
    "NLTK is a more advanced tool than just regular expressions. We can easily tokenize sentences. Tokenization is a process of getting words from sentences. **Tokenizers** are used to divide a string into it's logical subsets. Above, we have used the sentence tokenizer. Tokenization on the other hand is a common name for dividing a text into separate words and can be done in NLTK using word_tokenizer:"
   ]
  },
  {
   "cell_type": "code",
   "execution_count": 12,
   "metadata": {},
   "outputs": [
    {
     "name": "stdout",
     "output_type": "stream",
     "text": [
      "Tokens: ['JU', 'is', 'a', 'great', 'company', 'with', 'many', 'great', 'developers', '.']\n"
     ]
    }
   ],
   "source": [
    "tokens = nltk.word_tokenize(example)\n",
    "print(\"Tokens: \" + str(tokens))"
   ]
  },
  {
   "cell_type": "markdown",
   "metadata": {},
   "source": [
    "After a little fun we can use nltk to separate text into sentences in 'smarter' fashion:"
   ]
  },
  {
   "cell_type": "code",
   "execution_count": 13,
   "metadata": {},
   "outputs": [
    {
     "name": "stderr",
     "output_type": "stream",
     "text": [
      "[nltk_data] Downloading package punkt to\n",
      "[nltk_data]     /home/kprzystalski/nltk_data...\n",
      "[nltk_data]   Package punkt is already up-to-date!\n"
     ]
    },
    {
     "data": {
      "text/plain": [
       "['Well, what can I say about regexes?',\n",
       " \"They are quite annoying to be honest, but once you get a grasp you're gonna be fine.\",\n",
       " \"Yeah, I could use some basic boring text, here you go if that's what you miss: Ala ma kota, kot ma Alę.\",\n",
       " 'm?ke a m1sta.e and see what happens...',\n",
       " \"This sentence: 'Now works like a charm, been looking for easter egg here, failed.\"]"
      ]
     },
     "execution_count": 13,
     "metadata": {},
     "output_type": "execute_result"
    }
   ],
   "source": [
    "from nltk.tokenize import sent_tokenize\n",
    "\n",
    "nltk.download('punkt')\n",
    "\n",
    "sent_tokenize(text)"
   ]
  },
  {
   "cell_type": "markdown",
   "metadata": {},
   "source": [
    "__Tokenizers__ are used to divide a string into it's logical subsets. Above, we\n",
    "have used\n",
    "the sentence tokenizer. __Tokenization__ on the other hand is a common\n",
    "name for dividing\n",
    "a text into separate words and can be done in NLTK using\n",
    "__word_tokenizer__:"
   ]
  },
  {
   "cell_type": "code",
   "execution_count": 14,
   "metadata": {},
   "outputs": [
    {
     "name": "stdout",
     "output_type": "stream",
     "text": [
      "Normal tokenizer:\n",
      "['This', 'is', 'a', 'cooool', '#', 'dummysmiley', ':', ':', '-', ')', ':', '-P', '<', '3', 'and', 'some', 'arrows', '<', '>', '-', '>', '<', '--']\n",
      "This tokenizer is better suited for emoji handling\n"
     ]
    },
    {
     "data": {
      "text/plain": [
       "['This',\n",
       " 'is',\n",
       " 'a',\n",
       " 'cooool',\n",
       " '#dummysmiley',\n",
       " ':',\n",
       " ':-)',\n",
       " ':-P',\n",
       " '<3',\n",
       " 'and',\n",
       " 'some',\n",
       " 'arrows',\n",
       " '<',\n",
       " '>',\n",
       " '->',\n",
       " '<--']"
      ]
     },
     "execution_count": 14,
     "metadata": {},
     "output_type": "execute_result"
    }
   ],
   "source": [
    "from nltk.tokenize import word_tokenize, TweetTokenizer\n",
    "from nltk.tokenize import TweetTokenizer # Yes, this tokenizer was based on Tweets\n",
    "\n",
    "text = \"This is a cooool #dummysmiley: :-) :-P <3 and some arrows < > -> <--\"\n",
    "print(\"Normal tokenizer:\")\n",
    "print(word_tokenize(text))\n",
    "\n",
    "print(\"This tokenizer is better suited for emoji handling\")\n",
    "twitter_tokenizer = TweetTokenizer()\n",
    "twitter_tokenizer.tokenize(text)"
   ]
  },
  {
   "cell_type": "markdown",
   "metadata": {},
   "source": [
    "As you can see there are other tokenizers available and each is focused on\n",
    "different\n",
    "'kind' of tokenization.\n",
    "\n",
    "They are usually implemented as a set of\n",
    "complicated rules trailed down to certain language\n",
    "(e.g. will be different for\n",
    "polish and english) and __ARE NOT__ a subset of machine\n",
    "learning (in\n",
    "this part of course at least).\n",
    "\n",
    "Here are some other NLTK's tokenizers you could\n",
    "use:\n",
    "\n",
    "- __PunktTokenizer__: been used above for sentence tokenization. This one\n",
    "actually uses unsupervised algorithm to infer sentence boundaries.\n",
    "- __NISTTokenizer__: tokenizer for non-european text (say in Chinese).\n",
    "- __SExprTokenizer__: find parenthesized expressions in strings, see below:"
   ]
  },
  {
   "cell_type": "code",
   "execution_count": 15,
   "metadata": {},
   "outputs": [
    {
     "data": {
      "text/plain": [
       "['(a b (c d))', 'e', 'f', '(g)']"
      ]
     },
     "execution_count": 15,
     "metadata": {},
     "output_type": "execute_result"
    }
   ],
   "source": [
    "from nltk.tokenize import SExprTokenizer\n",
    "\n",
    "SExprTokenizer().tokenize('(a b (c d)) e f (g)')"
   ]
  },
  {
   "cell_type": "markdown",
   "metadata": {},
   "source": [
    "### Tagging\n",
    "\n",
    "What is great with NLTK is that we can tag each word. A tag give us a meaning of a word. We can think about it as a type of word."
   ]
  },
  {
   "cell_type": "code",
   "execution_count": 16,
   "metadata": {},
   "outputs": [
    {
     "name": "stdout",
     "output_type": "stream",
     "text": [
      "Tagged: [('JU', 'NNP'), ('is', 'VBZ'), ('a', 'DT'), ('great', 'JJ'), ('company', 'NN'), ('with', 'IN'), ('many', 'JJ'), ('great', 'JJ'), ('developers', 'NNS'), ('.', '.')]\n"
     ]
    }
   ],
   "source": [
    "tags = nltk.pos_tag(tokens)\n",
    "print(\"Tagged: \" + str(tags))"
   ]
  },
  {
   "cell_type": "markdown",
   "metadata": {},
   "source": [
    "Some tags are shown in the table below.\n",
    "\n",
    "| tag  | short | description   |\n",
    "|------|-------|---------------|\n",
    "| DT   | determiner | all an another any both del each either every half la many much nary neither no some such that the them these this those |\n",
    "| IN   | preposition or conjunction, subordinating | astride among uppon whether out inside pro despite on by throughout below within for towards near behind atop around if like until below next into if beside ... |\n",
    "| JJ   | adjective or numeral, ordinal | third ill-mannered pre-war regrettable oiled calamitous first separable ectoplasmic battery-powered participatory fourth still-to-be-named multilingual multi-disciplinary ... |\n",
    "| NN   | noun, common, singular or mass | common-carrier cabbage knuckle-duster Casino afghan shed thermostat investment slide humour falloff slick wind hyena override subhumanity machinist ... |\n",
    "| NNP  | noun, proper, singular | Motown Venneboerger Czestochowa Ranzer Conchita Trumplane Christos Oceanside Escobar Kreisler Sawyer Cougar Yvette Ervin ODI Darryl CTCA Shannon A.K.C. Meltex Liverpool ... |\n",
    "| NNS  | noun, common, plural | undergraduates scotches bric-a-brac products bodyguards facets coasts divestitures storehouses designs clubs fragrances averages subjectivists apprehensions muses factory-jobs ... |\n",
    "| VBZ  | verb, present tense, 3rd person singular | bases reconstructs marks mixes displeases seals carps weaves snatches slumps stretches authorizes smolders pictures emerges stockpiles seduces fizzes uses bolsters slaps speaks pleads ... |\n",
    "\n",
    "To get the full list of tags, use the following code:"
   ]
  },
  {
   "cell_type": "code",
   "execution_count": 17,
   "metadata": {},
   "outputs": [
    {
     "name": "stdout",
     "output_type": "stream",
     "text": [
      "$: dollar\n",
      "    $ -$ --$ A$ C$ HK$ M$ NZ$ S$ U.S.$ US$\n",
      "'': closing quotation mark\n",
      "    ' ''\n",
      "(: opening parenthesis\n",
      "    ( [ {\n",
      "): closing parenthesis\n",
      "    ) ] }\n",
      ",: comma\n",
      "    ,\n",
      "--: dash\n",
      "    --\n",
      ".: sentence terminator\n",
      "    . ! ?\n",
      ":: colon or ellipsis\n",
      "    : ; ...\n",
      "CC: conjunction, coordinating\n",
      "    & 'n and both but either et for less minus neither nor or plus so\n",
      "    therefore times v. versus vs. whether yet\n",
      "CD: numeral, cardinal\n",
      "    mid-1890 nine-thirty forty-two one-tenth ten million 0.5 one forty-\n",
      "    seven 1987 twenty '79 zero two 78-degrees eighty-four IX '60s .025\n",
      "    fifteen 271,124 dozen quintillion DM2,000 ...\n",
      "DT: determiner\n",
      "    all an another any both del each either every half la many much nary\n",
      "    neither no some such that the them these this those\n",
      "EX: existential there\n",
      "    there\n",
      "FW: foreign word\n",
      "    gemeinschaft hund ich jeux habeas Haementeria Herr K'ang-si vous\n",
      "    lutihaw alai je jour objets salutaris fille quibusdam pas trop Monte\n",
      "    terram fiche oui corporis ...\n",
      "IN: preposition or conjunction, subordinating\n",
      "    astride among uppon whether out inside pro despite on by throughout\n",
      "    below within for towards near behind atop around if like until below\n",
      "    next into if beside ...\n",
      "JJ: adjective or numeral, ordinal\n",
      "    third ill-mannered pre-war regrettable oiled calamitous first separable\n",
      "    ectoplasmic battery-powered participatory fourth still-to-be-named\n",
      "    multilingual multi-disciplinary ...\n",
      "JJR: adjective, comparative\n",
      "    bleaker braver breezier briefer brighter brisker broader bumper busier\n",
      "    calmer cheaper choosier cleaner clearer closer colder commoner costlier\n",
      "    cozier creamier crunchier cuter ...\n",
      "JJS: adjective, superlative\n",
      "    calmest cheapest choicest classiest cleanest clearest closest commonest\n",
      "    corniest costliest crassest creepiest crudest cutest darkest deadliest\n",
      "    dearest deepest densest dinkiest ...\n",
      "LS: list item marker\n",
      "    A A. B B. C C. D E F First G H I J K One SP-44001 SP-44002 SP-44005\n",
      "    SP-44007 Second Third Three Two * a b c d first five four one six three\n",
      "    two\n",
      "MD: modal auxiliary\n",
      "    can cannot could couldn't dare may might must need ought shall should\n",
      "    shouldn't will would\n",
      "NN: noun, common, singular or mass\n",
      "    common-carrier cabbage knuckle-duster Casino afghan shed thermostat\n",
      "    investment slide humour falloff slick wind hyena override subhumanity\n",
      "    machinist ...\n",
      "NNP: noun, proper, singular\n",
      "    Motown Venneboerger Czestochwa Ranzer Conchita Trumplane Christos\n",
      "    Oceanside Escobar Kreisler Sawyer Cougar Yvette Ervin ODI Darryl CTCA\n",
      "    Shannon A.K.C. Meltex Liverpool ...\n",
      "NNPS: noun, proper, plural\n",
      "    Americans Americas Amharas Amityvilles Amusements Anarcho-Syndicalists\n",
      "    Andalusians Andes Andruses Angels Animals Anthony Antilles Antiques\n",
      "    Apache Apaches Apocrypha ...\n",
      "NNS: noun, common, plural\n",
      "    undergraduates scotches bric-a-brac products bodyguards facets coasts\n",
      "    divestitures storehouses designs clubs fragrances averages\n",
      "    subjectivists apprehensions muses factory-jobs ...\n",
      "PDT: pre-determiner\n",
      "    all both half many quite such sure this\n",
      "POS: genitive marker\n",
      "    ' 's\n",
      "PRP: pronoun, personal\n",
      "    hers herself him himself hisself it itself me myself one oneself ours\n",
      "    ourselves ownself self she thee theirs them themselves they thou thy us\n",
      "PRP$: pronoun, possessive\n",
      "    her his mine my our ours their thy your\n",
      "RB: adverb\n",
      "    occasionally unabatingly maddeningly adventurously professedly\n",
      "    stirringly prominently technologically magisterially predominately\n",
      "    swiftly fiscally pitilessly ...\n",
      "RBR: adverb, comparative\n",
      "    further gloomier grander graver greater grimmer harder harsher\n",
      "    healthier heavier higher however larger later leaner lengthier less-\n",
      "    perfectly lesser lonelier longer louder lower more ...\n",
      "RBS: adverb, superlative\n",
      "    best biggest bluntest earliest farthest first furthest hardest\n",
      "    heartiest highest largest least less most nearest second tightest worst\n",
      "RP: particle\n",
      "    aboard about across along apart around aside at away back before behind\n",
      "    by crop down ever fast for forth from go high i.e. in into just later\n",
      "    low more off on open out over per pie raising start teeth that through\n",
      "    under unto up up-pp upon whole with you\n",
      "SYM: symbol\n",
      "    % & ' '' ''. ) ). * + ,. < = > @ A[fj] U.S U.S.S.R * ** ***\n",
      "TO: \"to\" as preposition or infinitive marker\n",
      "    to\n",
      "UH: interjection\n",
      "    Goodbye Goody Gosh Wow Jeepers Jee-sus Hubba Hey Kee-reist Oops amen\n",
      "    huh howdy uh dammit whammo shucks heck anyways whodunnit honey golly\n",
      "    man baby diddle hush sonuvabitch ...\n",
      "VB: verb, base form\n",
      "    ask assemble assess assign assume atone attention avoid bake balkanize\n",
      "    bank begin behold believe bend benefit bevel beware bless boil bomb\n",
      "    boost brace break bring broil brush build ...\n",
      "VBD: verb, past tense\n",
      "    dipped pleaded swiped regummed soaked tidied convened halted registered\n",
      "    cushioned exacted snubbed strode aimed adopted belied figgered\n",
      "    speculated wore appreciated contemplated ...\n",
      "VBG: verb, present participle or gerund\n",
      "    telegraphing stirring focusing angering judging stalling lactating\n",
      "    hankerin' alleging veering capping approaching traveling besieging\n",
      "    encrypting interrupting erasing wincing ...\n",
      "VBN: verb, past participle\n",
      "    multihulled dilapidated aerosolized chaired languished panelized used\n",
      "    experimented flourished imitated reunifed factored condensed sheared\n",
      "    unsettled primed dubbed desired ...\n",
      "VBP: verb, present tense, not 3rd person singular\n",
      "    predominate wrap resort sue twist spill cure lengthen brush terminate\n",
      "    appear tend stray glisten obtain comprise detest tease attract\n",
      "    emphasize mold postpone sever return wag ...\n",
      "VBZ: verb, present tense, 3rd person singular\n",
      "    bases reconstructs marks mixes displeases seals carps weaves snatches\n",
      "    slumps stretches authorizes smolders pictures emerges stockpiles\n",
      "    seduces fizzes uses bolsters slaps speaks pleads ...\n",
      "WDT: WH-determiner\n",
      "    that what whatever which whichever\n",
      "WP: WH-pronoun\n",
      "    that what whatever whatsoever which who whom whosoever\n",
      "WP$: WH-pronoun, possessive\n",
      "    whose\n",
      "WRB: Wh-adverb\n",
      "    how however whence whenever where whereby whereever wherein whereof why\n",
      "``: opening quotation mark\n",
      "    ` ``\n"
     ]
    },
    {
     "name": "stderr",
     "output_type": "stream",
     "text": [
      "[nltk_data] Downloading package tagsets to\n",
      "[nltk_data]     /home/kprzystalski/nltk_data...\n",
      "[nltk_data]   Package tagsets is already up-to-date!\n"
     ]
    }
   ],
   "source": [
    "nltk.download('tagsets')\n",
    "nltk.help.upenn_tagset()"
   ]
  },
  {
   "cell_type": "markdown",
   "metadata": {},
   "source": [
    "We can find the token in NLTK's corporas too:"
   ]
  },
  {
   "cell_type": "code",
   "execution_count": 18,
   "metadata": {},
   "outputs": [
    {
     "data": {
      "text/plain": [
       "['SCENE',\n",
       " '1',\n",
       " ':',\n",
       " '[',\n",
       " 'wind',\n",
       " ']',\n",
       " '[',\n",
       " 'clop',\n",
       " 'clop',\n",
       " 'clop',\n",
       " ']',\n",
       " 'KING',\n",
       " 'ARTHUR',\n",
       " ':',\n",
       " 'Whoa',\n",
       " 'there',\n",
       " '!',\n",
       " '[',\n",
       " 'clop',\n",
       " 'clop',\n",
       " 'clop',\n",
       " ']',\n",
       " 'SOLDIER',\n",
       " '#',\n",
       " '1',\n",
       " ':',\n",
       " 'Halt',\n",
       " '!',\n",
       " 'Who',\n",
       " 'goes',\n",
       " 'there',\n",
       " '?',\n",
       " 'ARTHUR',\n",
       " ':',\n",
       " 'It',\n",
       " 'is',\n",
       " 'I',\n",
       " ',',\n",
       " 'Arthur',\n",
       " ',',\n",
       " 'son',\n",
       " 'of',\n",
       " 'Uther',\n",
       " 'Pendragon',\n",
       " ',',\n",
       " 'from',\n",
       " 'the',\n",
       " 'castle',\n",
       " 'of',\n",
       " 'Camelot',\n",
       " '.',\n",
       " 'King',\n",
       " 'of',\n",
       " 'the',\n",
       " 'Britons',\n",
       " ',',\n",
       " 'defeator',\n",
       " 'of',\n",
       " 'the',\n",
       " 'Saxons',\n",
       " ',',\n",
       " 'sovereign',\n",
       " 'of',\n",
       " 'all',\n",
       " 'England',\n",
       " '!',\n",
       " 'SOLDIER',\n",
       " '#',\n",
       " '1',\n",
       " ':',\n",
       " 'Pull',\n",
       " 'the',\n",
       " 'other',\n",
       " 'one',\n",
       " '!',\n",
       " 'ARTHUR',\n",
       " ':',\n",
       " 'I',\n",
       " 'am',\n",
       " ',',\n",
       " '...',\n",
       " 'and',\n",
       " 'this',\n",
       " 'is',\n",
       " 'my',\n",
       " 'trusty',\n",
       " 'servant',\n",
       " 'Patsy',\n",
       " '.',\n",
       " 'We',\n",
       " 'have',\n",
       " 'ridden',\n",
       " 'the',\n",
       " 'length',\n",
       " 'and',\n",
       " 'breadth',\n",
       " 'of',\n",
       " 'the',\n",
       " 'land',\n",
       " 'in',\n",
       " 'search',\n",
       " 'of',\n",
       " 'knights',\n",
       " 'who',\n",
       " 'will',\n",
       " 'join',\n",
       " 'me',\n",
       " 'in',\n",
       " 'my',\n",
       " 'court',\n",
       " 'at',\n",
       " 'Camelot',\n",
       " '.',\n",
       " 'I',\n",
       " 'must',\n",
       " 'speak',\n",
       " 'with',\n",
       " 'your',\n",
       " 'lord',\n",
       " 'and',\n",
       " 'master',\n",
       " '.',\n",
       " 'SOLDIER',\n",
       " '#',\n",
       " '1',\n",
       " ':',\n",
       " 'What',\n",
       " '?',\n",
       " 'Ridden',\n",
       " 'on',\n",
       " 'a',\n",
       " 'horse',\n",
       " '?',\n",
       " 'ARTHUR',\n",
       " ':',\n",
       " 'Yes',\n",
       " '!',\n",
       " 'SOLDIER',\n",
       " '#',\n",
       " '1',\n",
       " ':',\n",
       " 'You',\n",
       " \"'\",\n",
       " 're',\n",
       " 'using',\n",
       " 'coconuts',\n",
       " '!',\n",
       " 'ARTHUR',\n",
       " ':',\n",
       " 'What',\n",
       " '?',\n",
       " 'SOLDIER',\n",
       " '#',\n",
       " '1',\n",
       " ':',\n",
       " 'You',\n",
       " \"'\",\n",
       " 've',\n",
       " 'got',\n",
       " 'two',\n",
       " 'empty',\n",
       " 'halves',\n",
       " 'of',\n",
       " 'coconut',\n",
       " 'and',\n",
       " 'you',\n",
       " \"'\",\n",
       " 're',\n",
       " 'bangin',\n",
       " \"'\",\n",
       " \"'\",\n",
       " 'em',\n",
       " 'together',\n",
       " '.',\n",
       " 'ARTHUR',\n",
       " ':',\n",
       " 'So',\n",
       " '?',\n",
       " 'We',\n",
       " 'have',\n",
       " 'ridden',\n",
       " 'since',\n",
       " 'the',\n",
       " 'snows',\n",
       " 'of',\n",
       " 'winter',\n",
       " 'covered',\n",
       " 'this',\n",
       " 'land',\n",
       " ',',\n",
       " 'through',\n",
       " 'the',\n",
       " 'kingdom',\n",
       " 'of',\n",
       " 'Mercea',\n",
       " ',',\n",
       " 'through',\n",
       " '--',\n",
       " 'SOLDIER',\n",
       " '#',\n",
       " '1',\n",
       " ':',\n",
       " 'Where',\n",
       " \"'\",\n",
       " 'd',\n",
       " 'you',\n",
       " 'get',\n",
       " 'the',\n",
       " 'coconuts',\n",
       " '?',\n",
       " 'ARTHUR',\n",
       " ':',\n",
       " 'We',\n",
       " 'found',\n",
       " 'them',\n",
       " '.',\n",
       " 'SOLDIER',\n",
       " '#',\n",
       " '1',\n",
       " ':',\n",
       " 'Found',\n",
       " 'them',\n",
       " '?',\n",
       " 'In',\n",
       " 'Mercea',\n",
       " '?',\n",
       " 'The',\n",
       " 'coconut',\n",
       " \"'\",\n",
       " 's',\n",
       " 'tropical',\n",
       " '!',\n",
       " 'ARTHUR',\n",
       " ':',\n",
       " 'What',\n",
       " 'do',\n",
       " 'you',\n",
       " 'mean',\n",
       " '?',\n",
       " 'SOLDIER',\n",
       " '#',\n",
       " '1',\n",
       " ':',\n",
       " 'Well',\n",
       " ',',\n",
       " 'this',\n",
       " 'is',\n",
       " 'a',\n",
       " 'temperate',\n",
       " 'zone',\n",
       " '.',\n",
       " 'ARTHUR',\n",
       " ':',\n",
       " 'The',\n",
       " 'swallow',\n",
       " 'may',\n",
       " 'fly',\n",
       " 'south',\n",
       " 'with',\n",
       " 'the',\n",
       " 'sun',\n",
       " 'or',\n",
       " 'the',\n",
       " 'house',\n",
       " 'martin',\n",
       " 'or',\n",
       " 'the',\n",
       " 'plover',\n",
       " 'may',\n",
       " 'seek',\n",
       " 'warmer',\n",
       " 'climes',\n",
       " 'in',\n",
       " 'winter',\n",
       " ',',\n",
       " 'yet',\n",
       " 'these',\n",
       " 'are',\n",
       " 'not',\n",
       " 'strangers',\n",
       " 'to',\n",
       " 'our',\n",
       " 'land',\n",
       " '?',\n",
       " 'SOLDIER',\n",
       " '#',\n",
       " '1',\n",
       " ':',\n",
       " 'Are',\n",
       " 'you',\n",
       " 'suggesting',\n",
       " 'coconuts',\n",
       " 'migrate',\n",
       " '?',\n",
       " 'ARTHUR',\n",
       " ':',\n",
       " 'Not',\n",
       " 'at',\n",
       " 'all',\n",
       " '.',\n",
       " 'They',\n",
       " 'could',\n",
       " 'be',\n",
       " 'carried',\n",
       " '.',\n",
       " 'SOLDIER',\n",
       " '#',\n",
       " '1',\n",
       " ':',\n",
       " 'What',\n",
       " '?',\n",
       " 'A',\n",
       " 'swallow',\n",
       " 'carrying',\n",
       " 'a',\n",
       " 'coconut',\n",
       " '?',\n",
       " 'ARTHUR',\n",
       " ':',\n",
       " 'It',\n",
       " 'could',\n",
       " 'grip',\n",
       " 'it',\n",
       " 'by',\n",
       " 'the',\n",
       " 'husk',\n",
       " '!',\n",
       " 'SOLDIER',\n",
       " '#',\n",
       " '1',\n",
       " ':',\n",
       " 'It',\n",
       " \"'\",\n",
       " 's',\n",
       " 'not',\n",
       " 'a',\n",
       " 'question',\n",
       " 'of',\n",
       " 'where',\n",
       " 'he',\n",
       " 'grips',\n",
       " 'it',\n",
       " '!',\n",
       " 'It',\n",
       " \"'\",\n",
       " 's',\n",
       " 'a',\n",
       " 'simple',\n",
       " 'question',\n",
       " 'of',\n",
       " 'weight',\n",
       " 'ratios',\n",
       " '!',\n",
       " 'A',\n",
       " 'five',\n",
       " 'ounce',\n",
       " 'bird',\n",
       " 'could',\n",
       " 'not',\n",
       " 'carry',\n",
       " 'a',\n",
       " 'one',\n",
       " 'pound',\n",
       " 'coconut',\n",
       " '.',\n",
       " 'ARTHUR',\n",
       " ':',\n",
       " 'Well',\n",
       " ',',\n",
       " 'it',\n",
       " 'doesn',\n",
       " \"'\",\n",
       " 't',\n",
       " 'matter',\n",
       " '.',\n",
       " 'Will',\n",
       " 'you',\n",
       " 'go',\n",
       " 'and',\n",
       " 'tell',\n",
       " 'your',\n",
       " 'master',\n",
       " 'that',\n",
       " 'Arthur',\n",
       " 'from',\n",
       " 'the',\n",
       " 'Court',\n",
       " 'of',\n",
       " 'Camelot',\n",
       " 'is',\n",
       " 'here',\n",
       " '.',\n",
       " 'SOLDIER',\n",
       " '#',\n",
       " '1',\n",
       " ':',\n",
       " 'Listen',\n",
       " '.',\n",
       " 'In',\n",
       " 'order',\n",
       " 'to',\n",
       " 'maintain',\n",
       " 'air',\n",
       " '-',\n",
       " 'speed',\n",
       " 'velocity',\n",
       " ',',\n",
       " 'a',\n",
       " 'swallow',\n",
       " 'needs',\n",
       " 'to',\n",
       " 'beat',\n",
       " 'its',\n",
       " 'wings',\n",
       " 'forty',\n",
       " '-',\n",
       " 'three',\n",
       " 'times',\n",
       " 'every',\n",
       " 'second',\n",
       " ',',\n",
       " 'right',\n",
       " '?',\n",
       " 'ARTHUR',\n",
       " ':',\n",
       " 'Please',\n",
       " '!',\n",
       " 'SOLDIER',\n",
       " '#',\n",
       " '1',\n",
       " ':',\n",
       " 'Am',\n",
       " 'I',\n",
       " 'right',\n",
       " '?',\n",
       " 'ARTHUR',\n",
       " ':',\n",
       " 'I',\n",
       " \"'\",\n",
       " 'm',\n",
       " 'not',\n",
       " 'interested',\n",
       " '!',\n",
       " 'SOLDIER',\n",
       " '#',\n",
       " '2',\n",
       " ':',\n",
       " 'It',\n",
       " 'could',\n",
       " 'be',\n",
       " 'carried',\n",
       " 'by',\n",
       " 'an',\n",
       " 'African',\n",
       " 'swallow',\n",
       " '!',\n",
       " 'SOLDIER',\n",
       " '#',\n",
       " '1',\n",
       " ':',\n",
       " 'Oh',\n",
       " ',',\n",
       " 'yeah',\n",
       " ',',\n",
       " 'an',\n",
       " 'African',\n",
       " 'swallow',\n",
       " 'maybe',\n",
       " ',',\n",
       " 'but',\n",
       " 'not',\n",
       " 'a',\n",
       " 'European',\n",
       " 'swallow',\n",
       " '.',\n",
       " 'That',\n",
       " \"'\",\n",
       " 's',\n",
       " 'my',\n",
       " 'point',\n",
       " '.',\n",
       " 'SOLDIER',\n",
       " '#',\n",
       " '2',\n",
       " ':',\n",
       " 'Oh',\n",
       " ',',\n",
       " 'yeah',\n",
       " ',',\n",
       " 'I',\n",
       " 'agree',\n",
       " 'with',\n",
       " 'that',\n",
       " '.',\n",
       " 'ARTHUR',\n",
       " ':',\n",
       " 'Will',\n",
       " 'you',\n",
       " 'ask',\n",
       " 'your',\n",
       " 'master',\n",
       " 'if',\n",
       " 'he',\n",
       " 'wants',\n",
       " 'to',\n",
       " 'join',\n",
       " 'my',\n",
       " 'court',\n",
       " 'at',\n",
       " 'Camelot',\n",
       " '?!',\n",
       " 'SOLDIER',\n",
       " '#',\n",
       " '1',\n",
       " ':',\n",
       " 'But',\n",
       " 'then',\n",
       " 'of',\n",
       " 'course',\n",
       " 'a',\n",
       " '--',\n",
       " 'African',\n",
       " 'swallows',\n",
       " 'are',\n",
       " 'non',\n",
       " '-',\n",
       " 'migratory',\n",
       " '.',\n",
       " 'SOLDIER',\n",
       " '#',\n",
       " '2',\n",
       " ':',\n",
       " 'Oh',\n",
       " ',',\n",
       " 'yeah',\n",
       " '...',\n",
       " 'SOLDIER',\n",
       " '#',\n",
       " '1',\n",
       " ':',\n",
       " 'So',\n",
       " 'they',\n",
       " 'couldn',\n",
       " \"'\",\n",
       " 't',\n",
       " 'bring',\n",
       " 'a',\n",
       " 'coconut',\n",
       " 'back',\n",
       " 'anyway',\n",
       " '...',\n",
       " '[',\n",
       " 'clop',\n",
       " 'clop',\n",
       " 'clop',\n",
       " ']',\n",
       " 'SOLDIER',\n",
       " '#',\n",
       " '2',\n",
       " ':',\n",
       " 'Wait',\n",
       " 'a',\n",
       " 'minute',\n",
       " '!',\n",
       " 'Supposing',\n",
       " 'two',\n",
       " 'swallows',\n",
       " 'carried',\n",
       " 'it',\n",
       " 'together',\n",
       " '?',\n",
       " 'SOLDIER',\n",
       " '#',\n",
       " '1',\n",
       " ':',\n",
       " 'No',\n",
       " ',',\n",
       " 'they',\n",
       " \"'\",\n",
       " 'd',\n",
       " 'have',\n",
       " 'to',\n",
       " 'have',\n",
       " 'it',\n",
       " 'on',\n",
       " 'a',\n",
       " 'line',\n",
       " '.',\n",
       " 'SOLDIER',\n",
       " '#',\n",
       " '2',\n",
       " ':',\n",
       " 'Well',\n",
       " ',',\n",
       " 'simple',\n",
       " '!',\n",
       " 'They',\n",
       " \"'\",\n",
       " 'd',\n",
       " 'just',\n",
       " 'use',\n",
       " 'a',\n",
       " 'strand',\n",
       " 'of',\n",
       " 'creeper',\n",
       " '!',\n",
       " 'SOLDIER',\n",
       " '#',\n",
       " '1',\n",
       " ':',\n",
       " 'What',\n",
       " ',',\n",
       " 'held',\n",
       " 'under',\n",
       " 'the',\n",
       " 'dorsal',\n",
       " 'guiding',\n",
       " 'feathers',\n",
       " '?',\n",
       " 'SOLDIER',\n",
       " '#',\n",
       " '2',\n",
       " ':',\n",
       " 'Well',\n",
       " ',',\n",
       " 'why',\n",
       " 'not',\n",
       " '?',\n",
       " 'SCENE',\n",
       " '2',\n",
       " ':',\n",
       " '[',\n",
       " 'thud',\n",
       " ']',\n",
       " '[',\n",
       " 'clang',\n",
       " ']',\n",
       " 'CART',\n",
       " '-',\n",
       " 'MASTER',\n",
       " ':',\n",
       " 'Bring',\n",
       " 'out',\n",
       " 'your',\n",
       " 'dead',\n",
       " '!',\n",
       " '[',\n",
       " 'clang',\n",
       " ']',\n",
       " 'Bring',\n",
       " 'out',\n",
       " 'your',\n",
       " 'dead',\n",
       " '!',\n",
       " '[',\n",
       " 'clang',\n",
       " ']',\n",
       " 'Bring',\n",
       " 'out',\n",
       " 'your',\n",
       " 'dead',\n",
       " '!',\n",
       " '[',\n",
       " 'clang',\n",
       " ']',\n",
       " 'Bring',\n",
       " 'out',\n",
       " 'your',\n",
       " 'dead',\n",
       " '!',\n",
       " '[',\n",
       " 'clang',\n",
       " ']',\n",
       " 'Bring',\n",
       " 'out',\n",
       " 'your',\n",
       " 'dead',\n",
       " '!',\n",
       " '[',\n",
       " 'cough',\n",
       " 'cough',\n",
       " '...]',\n",
       " '[',\n",
       " 'clang',\n",
       " ']',\n",
       " '[...',\n",
       " 'cough',\n",
       " 'cough',\n",
       " ']',\n",
       " 'Bring',\n",
       " 'out',\n",
       " 'your',\n",
       " 'dead',\n",
       " '!',\n",
       " '[',\n",
       " 'clang',\n",
       " ']',\n",
       " 'Bring',\n",
       " 'out',\n",
       " 'your',\n",
       " 'dead',\n",
       " '!',\n",
       " '[',\n",
       " 'clang',\n",
       " ']',\n",
       " 'Bring',\n",
       " 'out',\n",
       " 'your',\n",
       " 'dead',\n",
       " '!',\n",
       " 'Ninepence',\n",
       " '.',\n",
       " '[',\n",
       " 'clang',\n",
       " ']',\n",
       " 'Bring',\n",
       " 'out',\n",
       " 'your',\n",
       " 'dead',\n",
       " '!',\n",
       " '[',\n",
       " 'clang',\n",
       " ']',\n",
       " 'Bring',\n",
       " 'out',\n",
       " 'your',\n",
       " 'dead',\n",
       " '!',\n",
       " '[',\n",
       " 'clang',\n",
       " ']',\n",
       " 'Bring',\n",
       " 'out',\n",
       " '...',\n",
       " '[',\n",
       " 'rewr',\n",
       " '!]',\n",
       " '...',\n",
       " 'your',\n",
       " 'dead',\n",
       " '!',\n",
       " '[',\n",
       " 'rewr',\n",
       " '!]',\n",
       " '[',\n",
       " 'clang',\n",
       " ']',\n",
       " 'Bring',\n",
       " 'out',\n",
       " 'your',\n",
       " 'dead',\n",
       " '!',\n",
       " 'CUSTOMER',\n",
       " ':',\n",
       " 'Here',\n",
       " \"'\",\n",
       " 's',\n",
       " 'one',\n",
       " '.',\n",
       " 'CART',\n",
       " '-',\n",
       " 'MASTER',\n",
       " ':',\n",
       " 'Ninepence',\n",
       " '.',\n",
       " 'DEAD',\n",
       " 'PERSON',\n",
       " ':',\n",
       " 'I',\n",
       " \"'\",\n",
       " 'm',\n",
       " 'not',\n",
       " 'dead',\n",
       " '!',\n",
       " 'CART',\n",
       " '-',\n",
       " 'MASTER',\n",
       " ':',\n",
       " 'What',\n",
       " '?',\n",
       " 'CUSTOMER',\n",
       " ':',\n",
       " 'Nothing',\n",
       " '.',\n",
       " 'Here',\n",
       " \"'\",\n",
       " 's',\n",
       " 'your',\n",
       " 'ninepence',\n",
       " '.',\n",
       " 'DEAD',\n",
       " 'PERSON',\n",
       " ':',\n",
       " 'I',\n",
       " \"'\",\n",
       " 'm',\n",
       " 'not',\n",
       " 'dead',\n",
       " '!',\n",
       " 'CART',\n",
       " '-',\n",
       " 'MASTER',\n",
       " ':',\n",
       " \"'\",\n",
       " 'Ere',\n",
       " '.',\n",
       " 'He',\n",
       " 'says',\n",
       " 'he',\n",
       " \"'\",\n",
       " 's',\n",
       " 'not',\n",
       " 'dead',\n",
       " '!',\n",
       " 'CUSTOMER',\n",
       " ':',\n",
       " 'Yes',\n",
       " 'he',\n",
       " 'is',\n",
       " '.',\n",
       " 'DEAD',\n",
       " 'PERSON',\n",
       " ':',\n",
       " 'I',\n",
       " \"'\",\n",
       " 'm',\n",
       " 'not',\n",
       " '!',\n",
       " 'CART',\n",
       " '-',\n",
       " 'MASTER',\n",
       " ':',\n",
       " 'He',\n",
       " 'isn',\n",
       " \"'\",\n",
       " 't',\n",
       " '?',\n",
       " 'CUSTOMER',\n",
       " ':',\n",
       " 'Well',\n",
       " ',',\n",
       " 'he',\n",
       " 'will',\n",
       " 'be',\n",
       " 'soon',\n",
       " '.',\n",
       " 'He',\n",
       " \"'\",\n",
       " 's',\n",
       " 'very',\n",
       " 'ill',\n",
       " '.',\n",
       " 'DEAD',\n",
       " 'PERSON',\n",
       " ':',\n",
       " 'I',\n",
       " \"'\",\n",
       " 'm',\n",
       " 'getting',\n",
       " 'better',\n",
       " '!',\n",
       " 'CUSTOMER',\n",
       " ':',\n",
       " 'No',\n",
       " 'you',\n",
       " \"'\",\n",
       " 're',\n",
       " 'not',\n",
       " '.',\n",
       " 'You',\n",
       " \"'\",\n",
       " 'll',\n",
       " 'be',\n",
       " 'stone',\n",
       " 'dead',\n",
       " 'in',\n",
       " 'a',\n",
       " 'moment',\n",
       " '.',\n",
       " 'CART',\n",
       " '-',\n",
       " 'MASTER',\n",
       " ':',\n",
       " 'Oh',\n",
       " ',',\n",
       " 'I',\n",
       " 'can',\n",
       " \"'\",\n",
       " 't',\n",
       " 'take',\n",
       " 'him',\n",
       " 'like',\n",
       " 'that',\n",
       " '.',\n",
       " 'It',\n",
       " \"'\",\n",
       " 's',\n",
       " 'against',\n",
       " 'regulations',\n",
       " '.',\n",
       " 'DEAD',\n",
       " 'PERSON',\n",
       " ':',\n",
       " 'I',\n",
       " 'don',\n",
       " \"'\",\n",
       " 't',\n",
       " 'want',\n",
       " 'to',\n",
       " 'go',\n",
       " 'on',\n",
       " 'the',\n",
       " 'cart',\n",
       " '!',\n",
       " 'CUSTOMER',\n",
       " ':',\n",
       " 'Oh',\n",
       " ',',\n",
       " 'don',\n",
       " \"'\",\n",
       " 't',\n",
       " 'be',\n",
       " 'such',\n",
       " 'a',\n",
       " 'baby',\n",
       " '.',\n",
       " 'CART',\n",
       " '-',\n",
       " 'MASTER',\n",
       " ':',\n",
       " 'I',\n",
       " 'can',\n",
       " \"'\",\n",
       " 't',\n",
       " 'take',\n",
       " 'him',\n",
       " '.',\n",
       " 'DEAD',\n",
       " 'PERSON',\n",
       " ':',\n",
       " 'I',\n",
       " 'feel',\n",
       " 'fine',\n",
       " '!',\n",
       " 'CUSTOMER',\n",
       " ':',\n",
       " 'Well',\n",
       " ',',\n",
       " 'do',\n",
       " 'us',\n",
       " 'a',\n",
       " 'favor',\n",
       " '.',\n",
       " 'CART',\n",
       " '-',\n",
       " 'MASTER',\n",
       " ':',\n",
       " 'I',\n",
       " 'can',\n",
       " \"'\",\n",
       " 't',\n",
       " '.',\n",
       " 'CUSTOMER',\n",
       " ':',\n",
       " 'Well',\n",
       " ',',\n",
       " 'can',\n",
       " 'you',\n",
       " 'hang',\n",
       " 'around',\n",
       " 'a',\n",
       " 'couple',\n",
       " 'of',\n",
       " 'minutes',\n",
       " '?',\n",
       " 'He',\n",
       " 'won',\n",
       " \"'\",\n",
       " 't',\n",
       " 'be',\n",
       " 'long',\n",
       " '.',\n",
       " 'CART',\n",
       " '-',\n",
       " 'MASTER',\n",
       " ':',\n",
       " 'No',\n",
       " ',',\n",
       " 'I',\n",
       " \"'\",\n",
       " 've',\n",
       " 'got',\n",
       " 'to',\n",
       " 'go',\n",
       " 'to',\n",
       " 'the',\n",
       " 'Robinson',\n",
       " \"'\",\n",
       " 's',\n",
       " '.',\n",
       " ...]"
      ]
     },
     "execution_count": 18,
     "metadata": {},
     "output_type": "execute_result"
    }
   ],
   "source": [
    "text6.tokens"
   ]
  },
  {
   "cell_type": "markdown",
   "metadata": {},
   "source": [
    "Another feature of NLTK are the stopwords that are used in each language that NLTK supports:"
   ]
  },
  {
   "cell_type": "code",
   "execution_count": 19,
   "metadata": {},
   "outputs": [
    {
     "name": "stdout",
     "output_type": "stream",
     "text": [
      "{'more', 'o', 'who', 'myself', 'they', 'an', 'and', 'very', 'your', 'couldn', 'be', 'in', 'now', 'a', 'no', 'again', 'where', 'his', 'me', 'ain', 'wouldn', 't', \"haven't\", 'it', 'each', \"wouldn't\", 'hasn', 'mightn', 'until', 'mustn', 'only', 'themselves', 'here', 'theirs', \"you've\", 'such', \"wasn't\", \"don't\", 'won', 'same', 'has', \"won't\", 'which', 'at', \"you're\", 'weren', 'to', \"that'll\", 'other', 'should', 'few', 'just', 'you', 'whom', 'how', 'itself', 'hers', 'if', 'there', 'y', 'she', 'were', 'having', \"she's\", 'nor', \"mightn't\", 'do', 'once', 'was', \"couldn't\", 'will', 'their', 'those', 'is', 'of', 'isn', 'we', \"weren't\", 'into', 'so', \"isn't\", \"it's\", 'from', 'haven', 'ours', 'before', 'this', 'he', \"aren't\", 'but', 'been', 'with', 'below', 'or', 'can', 'off', 'shan', 'over', 'them', 'shouldn', 'than', 'on', 'down', \"shouldn't\", 'himself', 'yourselves', \"you'd\", 'as', 'ourselves', 'own', \"should've\", 'during', 'd', 'its', 'does', 'out', 'doesn', 'hadn', 'i', \"mustn't\", 'against', 'yours', 'both', 'have', 'under', 'while', 've', \"hasn't\", 'that', 'doing', 'ma', 'for', \"doesn't\", 'what', 'm', 'him', 'after', \"hadn't\", 'why', 'then', 'about', 'further', 'being', 'any', 'too', 'because', 'between', 'some', 'herself', 'my', 'the', 'all', 'our', 'not', 'needn', \"needn't\", \"shan't\", 'by', 'don', 'through', \"didn't\", 'am', 'her', \"you'll\", 'these', 'are', 'wasn', 'most', 'yourself', 'aren', 'didn', 're', 'had', 's', 'above', 'when', 'up', 'll', 'did'}\n"
     ]
    }
   ],
   "source": [
    "english_stopwords = set(nltk.corpus.stopwords.words('english'))\n",
    "print(english_stopwords)"
   ]
  },
  {
   "cell_type": "markdown",
   "metadata": {},
   "source": [
    "__POS-tagging__ is another method of describing our text. For each tokenized word we can obtain it's __Part Of Speech__. Those informations are frequently used throughout more advanced machine learning methods.\n",
    "\n",
    "Up until now everything was easy, fortunately this one is no exception."
   ]
  },
  {
   "cell_type": "code",
   "execution_count": 20,
   "metadata": {},
   "outputs": [
    {
     "name": "stderr",
     "output_type": "stream",
     "text": [
      "[nltk_data] Downloading package averaged_perceptron_tagger to\n",
      "[nltk_data]     /home/kprzystalski/nltk_data...\n",
      "[nltk_data]   Package averaged_perceptron_tagger is already up-to-\n",
      "[nltk_data]       date!\n"
     ]
    },
    {
     "data": {
      "text/plain": [
       "[('Another', 'DT'),\n",
       " ('text', 'NN'),\n",
       " ('.', '.'),\n",
       " ('You', 'PRP'),\n",
       " ('know', 'VBP'),\n",
       " (',', ','),\n",
       " ('this', 'DT'),\n",
       " ('is', 'VBZ'),\n",
       " ('the', 'DT'),\n",
       " ('hardest', 'JJS'),\n",
       " ('part', 'NN'),\n",
       " (',', ','),\n",
       " ('coming', 'VBG'),\n",
       " ('up', 'RP'),\n",
       " ('with', 'IN'),\n",
       " ('all', 'PDT'),\n",
       " ('those', 'DT'),\n",
       " ('texts', 'NNS'),\n",
       " ('.', '.'),\n",
       " ('Lorem', 'NNP'),\n",
       " ('Ipsum', 'NNP'),\n",
       " ('or', 'CC'),\n",
       " ('some', 'DT'),\n",
       " ('random', 'JJ'),\n",
       " ('stuff', 'NN'),\n",
       " ('is', 'VBZ'),\n",
       " ('pretty', 'JJ'),\n",
       " ('boring', 'JJ'),\n",
       " ('IMO', 'NNP'),\n",
       " ('.', '.'),\n",
       " ('You', 'PRP'),\n",
       " ('may', 'MD'),\n",
       " ('feel', 'VB'),\n",
       " ('like', 'IN'),\n",
       " ('somebody', 'NN'),\n",
       " ('did', 'VBD'),\n",
       " (\"n't\", 'RB'),\n",
       " ('care', 'VB'),\n",
       " ('(', '('),\n",
       " ('or', 'CC'),\n",
       " ('at', 'IN'),\n",
       " ('least', 'JJS'),\n",
       " ('I', 'PRP'),\n",
       " ('do', 'VBP'),\n",
       " (')', ')'),\n",
       " ('.Or', 'VB'),\n",
       " ('maybe', 'RB'),\n",
       " ('it', 'PRP'),\n",
       " (\"'s\", 'VBZ'),\n",
       " ('just', 'RB'),\n",
       " ('an', 'DT'),\n",
       " ('act', 'NN'),\n",
       " ('?', '.'),\n",
       " ('I', 'PRP'),\n",
       " ('will', 'MD'),\n",
       " ('not', 'RB'),\n",
       " ('address', 'VB'),\n",
       " ('this', 'DT'),\n",
       " ('question', 'NN'),\n",
       " ('.', '.')]"
      ]
     },
     "execution_count": 20,
     "metadata": {},
     "output_type": "execute_result"
    }
   ],
   "source": [
    "# we have already imported nltk.tokenize.word_tokenizer\n",
    "\n",
    "nltk.download('averaged_perceptron_tagger')\n",
    "\n",
    "words = word_tokenize(\n",
    "    \"Another text. You know, this is the hardest part, coming up with all those texts. \"\n",
    "    \"Lorem Ipsum or some random stuff is pretty boring IMO. \"\n",
    "    \"You may feel like somebody didn't care (or at least I do).\"\n",
    "    \"Or maybe it's just an act? I will not address this question.\"\n",
    ")\n",
    "\n",
    "nltk.pos_tag(words)"
   ]
  },
  {
   "cell_type": "markdown",
   "metadata": {},
   "source": [
    "Look at `act` and `address` towards the end of output.\n",
    "\n",
    "POS can be used to dismabiguate word meaning, `act` can be both noun (NN) and verb (VB), same goes for address. \n",
    "\n",
    "This tokenizer is __based on simple one layer neural network__ hence it takes context into account (words before and after an act). \n",
    "\n",
    "Context (N words before and after certain word) is called __N-gram__ in Machine Learning and we will make use of it more later in this course.\n",
    "\n",
    "<ADD N-GRAM PHOTO>\n",
    "\n",
    "This is more sophisticated approach and __should be__ used when more abstract reasoning is needed (like word disambiguation).\n",
    "\n",
    "With __NLTK__ we can create and train our own taggers, or choose a pre-made one and train is as seen below (this one takes the next word as it's context)."
   ]
  },
  {
   "cell_type": "code",
   "execution_count": 21,
   "metadata": {},
   "outputs": [
    {
     "name": "stderr",
     "output_type": "stream",
     "text": [
      "[nltk_data] Downloading package brown to\n",
      "[nltk_data]     /home/kprzystalski/nltk_data...\n",
      "[nltk_data]   Package brown is already up-to-date!\n"
     ]
    },
    {
     "data": {
      "text/plain": [
       "[('Various', 'JJ'),\n",
       " ('of', 'IN'),\n",
       " ('the', 'AT'),\n",
       " ('apartments', 'NNS'),\n",
       " ('are', 'BER'),\n",
       " ('of', 'IN'),\n",
       " ('the', 'AT'),\n",
       " ('terrace', 'NN'),\n",
       " ('type', 'NN'),\n",
       " (',', ','),\n",
       " ('being', 'BEG'),\n",
       " ('on', 'IN'),\n",
       " ('the', 'AT'),\n",
       " ('ground', 'NN'),\n",
       " ('floor', 'NN'),\n",
       " ('so', 'CS'),\n",
       " ('that', 'CS'),\n",
       " ('entrance', 'NN'),\n",
       " ('is', 'BEZ'),\n",
       " ('direct', 'JJ'),\n",
       " ('.', '.')]"
      ]
     },
     "execution_count": 21,
     "metadata": {},
     "output_type": "execute_result"
    }
   ],
   "source": [
    "import nltk\n",
    "from nltk.corpus import brown \n",
    "nltk.download(\"brown\")\n",
    " \n",
    "brown_tagged_sents = brown.tagged_sents(categories=\"news\")\n",
    "brown_sents = brown.sents(categories=\"news\") \n",
    "unigram_tagger = nltk.BigramTagger(brown_tagged_sents)\n",
    "unigram_tagger.tag(brown_sents[2007])"
   ]
  },
  {
   "cell_type": "markdown",
   "metadata": {},
   "source": [
    "### Unicode\n",
    "\n",
    "Each alphabet is different and some languages use letter that are not used in any other language. Unicode allows use to standardize the text. Let's see an of some german and portugese text below."
   ]
  },
  {
   "cell_type": "code",
   "execution_count": 22,
   "metadata": {},
   "outputs": [
    {
     "data": {
      "text/plain": [
       "str"
      ]
     },
     "execution_count": 22,
     "metadata": {},
     "output_type": "execute_result"
    }
   ],
   "source": [
    "sample = \"\"\"Minderjährige Schülerinnen. O português é uma língua romântica\"\"\"\n",
    "\n",
    "type(sample)"
   ]
  },
  {
   "cell_type": "markdown",
   "metadata": {},
   "source": [
    "If we convert it to ASCII it will look as following:"
   ]
  },
  {
   "cell_type": "code",
   "execution_count": 23,
   "metadata": {},
   "outputs": [
    {
     "data": {
      "text/plain": [
       "\"'Minderj\\\\xe4hrige Sch\\\\xfclerinnen. O portugu\\\\xeas \\\\xe9 uma l\\\\xedngua rom\\\\xe2ntica'\""
      ]
     },
     "execution_count": 23,
     "metadata": {},
     "output_type": "execute_result"
    }
   ],
   "source": [
    "ascii(sample)"
   ]
  },
  {
   "cell_type": "markdown",
   "metadata": {},
   "source": [
    "It is not what we expected. It's hard to work with such a text. We can go a step further and encode the string to be a unicode encoded one:"
   ]
  },
  {
   "cell_type": "code",
   "execution_count": 24,
   "metadata": {},
   "outputs": [
    {
     "data": {
      "text/plain": [
       "b'Minderj\\xc3\\xa4hrige Sch\\xc3\\xbclerinnen. O portugu\\xc3\\xaas \\xc3\\xa9 uma l\\xc3\\xadngua rom\\xc3\\xa2ntica'"
      ]
     },
     "execution_count": 24,
     "metadata": {},
     "output_type": "execute_result"
    }
   ],
   "source": [
    "sample.encode('utf8')"
   ]
  },
  {
   "cell_type": "markdown",
   "metadata": {},
   "source": [
    "We could also ignore the ASCII characters that we cannot do anything with in the further processing:"
   ]
  },
  {
   "cell_type": "code",
   "execution_count": 25,
   "metadata": {},
   "outputs": [
    {
     "data": {
      "text/plain": [
       "b'Minderjhrige Schlerinnen. O portugus  uma lngua romntica'"
      ]
     },
     "execution_count": 25,
     "metadata": {},
     "output_type": "execute_result"
    }
   ],
   "source": [
    "sample.encode('ascii', 'ignore')"
   ]
  },
  {
   "cell_type": "markdown",
   "metadata": {},
   "source": [
    "Now we have all letter that make sense, but we have text that does not make any sense anymore. To solve it, we need to normalize it and only after the normalization remove the ascii signs."
   ]
  },
  {
   "cell_type": "code",
   "execution_count": 26,
   "metadata": {},
   "outputs": [
    {
     "data": {
      "text/plain": [
       "b'Minderjahrige Schulerinnen. O portugues e uma lingua romantica'"
      ]
     },
     "execution_count": 26,
     "metadata": {},
     "output_type": "execute_result"
    }
   ],
   "source": [
    "import unicodedata\n",
    "\n",
    "unicodedata.normalize('NFKD', sample).encode('ascii','ignore')"
   ]
  },
  {
   "cell_type": "markdown",
   "metadata": {},
   "source": [
    "More about [Unicode normalization forms](http://unicode.org/reports/tr15/)"
   ]
  },
  {
   "cell_type": "markdown",
   "metadata": {},
   "source": [
    "### Lemmatization\n",
    "\n",
    "Lemmatization is a process of getting one word for many forms of the word. \n",
    "\n",
    "Let's see an example:"
   ]
  },
  {
   "cell_type": "code",
   "execution_count": 27,
   "metadata": {},
   "outputs": [
    {
     "name": "stderr",
     "output_type": "stream",
     "text": [
      "[nltk_data] Downloading package omw-1.4 to\n",
      "[nltk_data]     /home/kprzystalski/nltk_data...\n",
      "[nltk_data]   Package omw-1.4 is already up-to-date!\n"
     ]
    },
    {
     "name": "stdout",
     "output_type": "stream",
     "text": [
      "do\n",
      "do\n",
      "do\n"
     ]
    }
   ],
   "source": [
    "from nltk.stem import WordNetLemmatizer\n",
    "nltk.download('omw-1.4')\n",
    "\n",
    "wordnet_lemmatizer = WordNetLemmatizer()\n",
    "\n",
    "print(wordnet_lemmatizer.lemmatize('do',pos='v'))\n",
    "print(wordnet_lemmatizer.lemmatize('does',pos='v'))\n",
    "print(wordnet_lemmatizer.lemmatize('doing',pos='v'))"
   ]
  },
  {
   "cell_type": "markdown",
   "metadata": {},
   "source": [
    "We can set the main part of speech as one of the following:\n",
    "\n",
    "ADJ, ADJ_SAT, ADV, NOUN, VERB = 'a', 's', 'r', 'n', 'v'"
   ]
  },
  {
   "cell_type": "code",
   "execution_count": 28,
   "metadata": {},
   "outputs": [
    {
     "data": {
      "text/plain": [
       "'be'"
      ]
     },
     "execution_count": 28,
     "metadata": {},
     "output_type": "execute_result"
    }
   ],
   "source": [
    "wordnet_lemmatizer.lemmatize('are',pos='v')"
   ]
  },
  {
   "cell_type": "markdown",
   "metadata": {},
   "source": [
    "### Stemming\n",
    "\n",
    "Stemming is similar to lemmatization, but the main difference is that is just reduce the word to it root. It gives in many cases different results than lemmatization as the second solution is based on part of speech."
   ]
  },
  {
   "cell_type": "code",
   "execution_count": 29,
   "metadata": {},
   "outputs": [
    {
     "name": "stdout",
     "output_type": "stream",
     "text": [
      "['thi', 'is', 'a', 'new', 'train', 'about', 'machin', 'learn', 'usag', 'for', 'chatbot']\n",
      "['thi', 'is', 'a', 'new', 'train', 'about', 'machin', 'learn', 'us', 'for', 'chatbot']\n",
      "['this', 'is', 'a', 'new', 'train', 'about', 'machin', 'learn', 'usag', 'for', 'chatbot']\n"
     ]
    }
   ],
   "source": [
    "from nltk import PorterStemmer, LancasterStemmer, word_tokenize\n",
    "from nltk.stem.snowball import SnowballStemmer\n",
    "\n",
    "sample = \"This is a new training about machine learning usage for chatbots\"\n",
    "\n",
    "tokens = word_tokenize(sample)\n",
    "\n",
    "porter = PorterStemmer()\n",
    "p_stem = [porter.stem(t) for t in tokens]\n",
    "print(p_stem)\n",
    "\n",
    "lancaster = LancasterStemmer()\n",
    "l_stem = [lancaster.stem(t) for t in tokens]\n",
    "print(l_stem)\n",
    "\n",
    "snowball = SnowballStemmer('english')\n",
    "s_stem = [snowball.stem(t) for t in tokens]\n",
    "print(s_stem)"
   ]
  },
  {
   "cell_type": "markdown",
   "metadata": {},
   "source": [
    "As per usual there are other stemmers and lemmatizers available in NLTK. \n",
    "Some\n",
    "of them may be faster (PorterStemmer), but Snowball is considered de-facto\n",
    "standard.\n",
    "\n",
    "A few traits of each should be noticed:\n",
    "- Stemming is faster (it\n",
    "doesn't have to consult dictionary and complicated\n",
    "morphological rules).\n",
    "-\n",
    "Stemming may not produce a dictionary word, see `studi` above.\n",
    "- Lemmatization\n",
    "produces smaller set of words. It is useful as we do not have to keep\n",
    "track of\n",
    "all the different form of word (running, runner, runs etc.). More memory\n",
    "efficient.\n",
    "- Lemmatization is not as crude, when it does not find the lemma it\n",
    "returns the original\n",
    "form. It __may__ produce more words this way, depends on\n",
    "the kind of text we are\n",
    "processing."
   ]
  },
  {
   "cell_type": "markdown",
   "metadata": {},
   "source": [
    "### Sentence extraction\n",
    "\n",
    "In this section we show some features of SpaCy. One of the most commonly used is the sentence extraction. An example of Trump speech divided into sentences can be found below."
   ]
  },
  {
   "cell_type": "code",
   "execution_count": 30,
   "metadata": {},
   "outputs": [
    {
     "ename": "OSError",
     "evalue": "[E050] Can't find model 'en_core_web_sm'. It doesn't seem to be a Python package or a valid path to a data directory.",
     "output_type": "error",
     "traceback": [
      "\u001b[0;31m---------------------------------------------------------------------------\u001b[0m",
      "\u001b[0;31mOSError\u001b[0m                                   Traceback (most recent call last)",
      "\u001b[0;32m<ipython-input-30-6ad341ffd312>\u001b[0m in \u001b[0;36m<module>\u001b[0;34m\u001b[0m\n\u001b[1;32m      4\u001b[0m \u001b[0mtrump\u001b[0m \u001b[0;34m=\u001b[0m \u001b[0mfile\u001b[0m\u001b[0;34m.\u001b[0m\u001b[0mread\u001b[0m\u001b[0;34m(\u001b[0m\u001b[0;34m)\u001b[0m\u001b[0;34m\u001b[0m\u001b[0;34m\u001b[0m\u001b[0m\n\u001b[1;32m      5\u001b[0m \u001b[0;34m\u001b[0m\u001b[0m\n\u001b[0;32m----> 6\u001b[0;31m \u001b[0mnlp\u001b[0m \u001b[0;34m=\u001b[0m \u001b[0mspacy\u001b[0m\u001b[0;34m.\u001b[0m\u001b[0mload\u001b[0m\u001b[0;34m(\u001b[0m\u001b[0;34m\"en_core_web_sm\"\u001b[0m\u001b[0;34m)\u001b[0m\u001b[0;34m\u001b[0m\u001b[0;34m\u001b[0m\u001b[0m\n\u001b[0m\u001b[1;32m      7\u001b[0m \u001b[0mdoc\u001b[0m \u001b[0;34m=\u001b[0m \u001b[0mnlp\u001b[0m\u001b[0;34m(\u001b[0m\u001b[0mtrump\u001b[0m\u001b[0;34m)\u001b[0m\u001b[0;34m\u001b[0m\u001b[0;34m\u001b[0m\u001b[0m\n\u001b[1;32m      8\u001b[0m \u001b[0;34m\u001b[0m\u001b[0m\n",
      "\u001b[0;32m~/.local/lib/python3.6/site-packages/spacy/__init__.py\u001b[0m in \u001b[0;36mload\u001b[0;34m(name, vocab, disable, enable, exclude, config)\u001b[0m\n\u001b[1;32m     58\u001b[0m         \u001b[0menable\u001b[0m\u001b[0;34m=\u001b[0m\u001b[0menable\u001b[0m\u001b[0;34m,\u001b[0m\u001b[0;34m\u001b[0m\u001b[0;34m\u001b[0m\u001b[0m\n\u001b[1;32m     59\u001b[0m         \u001b[0mexclude\u001b[0m\u001b[0;34m=\u001b[0m\u001b[0mexclude\u001b[0m\u001b[0;34m,\u001b[0m\u001b[0;34m\u001b[0m\u001b[0;34m\u001b[0m\u001b[0m\n\u001b[0;32m---> 60\u001b[0;31m         \u001b[0mconfig\u001b[0m\u001b[0;34m=\u001b[0m\u001b[0mconfig\u001b[0m\u001b[0;34m,\u001b[0m\u001b[0;34m\u001b[0m\u001b[0;34m\u001b[0m\u001b[0m\n\u001b[0m\u001b[1;32m     61\u001b[0m     )\n\u001b[1;32m     62\u001b[0m \u001b[0;34m\u001b[0m\u001b[0m\n",
      "\u001b[0;32m~/.local/lib/python3.6/site-packages/spacy/util.py\u001b[0m in \u001b[0;36mload_model\u001b[0;34m(name, vocab, disable, enable, exclude, config)\u001b[0m\n\u001b[1;32m    447\u001b[0m     \u001b[0;32mif\u001b[0m \u001b[0mname\u001b[0m \u001b[0;32min\u001b[0m \u001b[0mOLD_MODEL_SHORTCUTS\u001b[0m\u001b[0;34m:\u001b[0m\u001b[0;34m\u001b[0m\u001b[0;34m\u001b[0m\u001b[0m\n\u001b[1;32m    448\u001b[0m         \u001b[0;32mraise\u001b[0m \u001b[0mIOError\u001b[0m\u001b[0;34m(\u001b[0m\u001b[0mErrors\u001b[0m\u001b[0;34m.\u001b[0m\u001b[0mE941\u001b[0m\u001b[0;34m.\u001b[0m\u001b[0mformat\u001b[0m\u001b[0;34m(\u001b[0m\u001b[0mname\u001b[0m\u001b[0;34m=\u001b[0m\u001b[0mname\u001b[0m\u001b[0;34m,\u001b[0m \u001b[0mfull\u001b[0m\u001b[0;34m=\u001b[0m\u001b[0mOLD_MODEL_SHORTCUTS\u001b[0m\u001b[0;34m[\u001b[0m\u001b[0mname\u001b[0m\u001b[0;34m]\u001b[0m\u001b[0;34m)\u001b[0m\u001b[0;34m)\u001b[0m  \u001b[0;31m# type: ignore[index]\u001b[0m\u001b[0;34m\u001b[0m\u001b[0;34m\u001b[0m\u001b[0m\n\u001b[0;32m--> 449\u001b[0;31m     \u001b[0;32mraise\u001b[0m \u001b[0mIOError\u001b[0m\u001b[0;34m(\u001b[0m\u001b[0mErrors\u001b[0m\u001b[0;34m.\u001b[0m\u001b[0mE050\u001b[0m\u001b[0;34m.\u001b[0m\u001b[0mformat\u001b[0m\u001b[0;34m(\u001b[0m\u001b[0mname\u001b[0m\u001b[0;34m=\u001b[0m\u001b[0mname\u001b[0m\u001b[0;34m)\u001b[0m\u001b[0;34m)\u001b[0m\u001b[0;34m\u001b[0m\u001b[0;34m\u001b[0m\u001b[0m\n\u001b[0m\u001b[1;32m    450\u001b[0m \u001b[0;34m\u001b[0m\u001b[0m\n\u001b[1;32m    451\u001b[0m \u001b[0;34m\u001b[0m\u001b[0m\n",
      "\u001b[0;31mOSError\u001b[0m: [E050] Can't find model 'en_core_web_sm'. It doesn't seem to be a Python package or a valid path to a data directory."
     ]
    }
   ],
   "source": [
    "import spacy\n",
    "\n",
    "file = open(\"../datasets/trump.txt\", \"r\",encoding='utf-8') \n",
    "trump = file.read() \n",
    "\n",
    "nlp = spacy.load(\"en_core_web_sm\")\n",
    "doc = nlp(trump)\n",
    "\n",
    "for span in doc.sents:\n",
    "    print(\"> \", span)"
   ]
  },
  {
   "cell_type": "markdown",
   "metadata": {},
   "source": [
    "Each sentence can next be tokenized and we can get a tag and pos of it."
   ]
  },
  {
   "cell_type": "code",
   "execution_count": null,
   "metadata": {},
   "outputs": [],
   "source": [
    "for span in doc.sents:\n",
    "    for i in range(span.start, span.end):\n",
    "        token = doc[i]\n",
    "        print(i, token.text, token.tag_, token.pos_)"
   ]
  },
  {
   "cell_type": "markdown",
   "metadata": {},
   "source": [
    "### Noun chunks\n",
    "\n",
    "Chunking is a process of getting just specific part of speeches. The most popular is the noun chunking. It allow us to get the general meaning of what is the text about."
   ]
  },
  {
   "cell_type": "code",
   "execution_count": null,
   "metadata": {},
   "outputs": [],
   "source": [
    "for np in doc.noun_chunks:\n",
    "    print(np)"
   ]
  },
  {
   "cell_type": "markdown",
   "metadata": {},
   "source": [
    "### Named entity recognition\n",
    "\n",
    "The last feature that we show here is the named entitiy resolution. It returns a NER of each word."
   ]
  },
  {
   "cell_type": "code",
   "execution_count": null,
   "metadata": {},
   "outputs": [],
   "source": [
    "for entity in doc.ents:\n",
    "    print(entity.label_, entity.text)"
   ]
  },
  {
   "cell_type": "markdown",
   "metadata": {},
   "source": [
    "### Bag of Words\n",
    "\n",
    "Many machine learning methods cannot use strings as features, we have to encode it using numbers.\n",
    "\n",
    "We can easily do this using __Bag Of Words (BOW)__ technique and marvelous __sklearn__ library:"
   ]
  },
  {
   "cell_type": "code",
   "execution_count": null,
   "metadata": {},
   "outputs": [],
   "source": [
    "from sklearn.feature_extraction.text import CountVectorizer\n",
    "\n",
    "vectorizer = CountVectorizer()\n",
    "\n",
    "corpus = [\n",
    "     'Bag Of Words is based on counting',\n",
    "     'words occurences throughout multiple documents.',\n",
    "     'This is the third document.',\n",
    "     'As you can see most of the words occur only once.',\n",
    "     'This gives us a pretty sparse matrix, see below. Really, see below',\n",
    "]\n",
    "\n",
    "X = vectorizer.fit_transform(corpus)\n",
    "print(X.toarray())"
   ]
  },
  {
   "cell_type": "markdown",
   "metadata": {},
   "source": [
    "Each document is represented by the row. Values ranging from 0 to N represent whether and how many times the word occured in the document. You can see what word corresponds to which column by issuing get_feature_names() on vectorizer object."
   ]
  },
  {
   "cell_type": "code",
   "execution_count": null,
   "metadata": {},
   "outputs": [],
   "source": [
    "vectorizer.get_feature_names()"
   ]
  },
  {
   "cell_type": "markdown",
   "metadata": {},
   "source": [
    "This approach allows us to easily describe the whole corpora, but it lacks informations crucial for solving some tasks.\n",
    "\n",
    "### TF-IDF\n",
    "\n",
    "Look at word is. It is used in most documents many times, yet it does not tell us anything about them. Let's think about sentiment analysis: if words like great or awesome occur frequently in comparison with another documents it may suggest positive attitude.\n",
    "\n",
    "TF-IDF is one way to encode this information and I'll walk you through it step by step.\n",
    "\n",
    "First part of TF-IDF is, yes, you guessed it, TF, which means Term Frequency. It can be calculated as:\n",
    "\n",
    "\\begin{equation}\n",
    "tf_{ij}=\\frac{n_{ij}}{\\sum n_{ij}},\n",
    "\\end{equation}\n",
    "where $n_{ij}$ is the number of occurence of word $i$ in document $j$."
   ]
  },
  {
   "cell_type": "code",
   "execution_count": null,
   "metadata": {},
   "outputs": [],
   "source": [
    "import numpy as np\n",
    "\n",
    "corpus = [\n",
    "'Tom has cat',\n",
    "'Tom has fish',\n",
    "'Tom is polish',\n",
    "]\n",
    "\n",
    "def tf(corpus):\n",
    "    vec = CountVectorizer()\n",
    "    bow_representation = vec.fit_transform(corpus)\n",
    "    words_per_corpus = bow_representation.sum(axis=1)\n",
    "    return np.divide(np.array(bow_representation.toarray()),np.array(words_per_corpus).reshape((5,))[:,None])\n"
   ]
  },
  {
   "cell_type": "markdown",
   "metadata": {},
   "source": [
    "For each document we count how many times it occurred (BoW implementaion) and divide by the count of all words in this document.\n",
    "\n",
    "Next part is IDF, which stands for Inverse Document Frequency:\n",
    "\n",
    "\\begin{equation}\n",
    "idf=\\log(\\frac{N}{df_{t}}),\n",
    "\\end{equation}\n",
    "where $N$ is the total number of documents and $df_{t}$ is number of documents containing $t$."
   ]
  },
  {
   "cell_type": "code",
   "execution_count": null,
   "metadata": {
    "scrolled": true
   },
   "outputs": [],
   "source": [
    "def idf(corpus):\n",
    "    document_count = len(corpus)\n",
    "    bow_representation = CountVectorizer().fit_transform(corpus)\n",
    "    return np.log(document_count / np.count_nonzero(bow_representation.toarray(), axis=0))"
   ]
  },
  {
   "cell_type": "markdown",
   "metadata": {},
   "source": [
    "First we calculate number of documents in corpus (number of rows in our case). Next, for each word, we calculate documents containing said word at least once.\n",
    "\n",
    "Taking logarithm allows us to dampen the effect of idf. For example, the difference between term occuring in 40 out of 50 documents and 45 out of 50 documents will be smaller than difference between 1/50 and 5/50. This puts a bigger emphasis on rarely occuring terms as they are more informative.\n",
    "\n",
    "Finally, for the whole thing to work, we simply multiply both:"
   ]
  },
  {
   "cell_type": "code",
   "execution_count": null,
   "metadata": {},
   "outputs": [],
   "source": [
    "def tf_idf(corpus):\n",
    "    return tf(corpus) * idf(corpus)"
   ]
  },
  {
   "cell_type": "markdown",
   "metadata": {},
   "source": [
    "Let's calculate it:"
   ]
  },
  {
   "cell_type": "code",
   "execution_count": null,
   "metadata": {},
   "outputs": [],
   "source": [
    "corpus = [\n",
    "     'Bag Of Words is based on counting',\n",
    "     'words occurences throughout multiple documents.',\n",
    "     'This is the third document.',\n",
    "     'As you can see most of the words occur only once.',\n",
    "     'This gives us a pretty sparse matrix, see below. Really, see below',\n",
    "]\n",
    "\n",
    "tfidf_result = tf_idf(corpus)\n",
    "\n",
    "print(tfidf_result.shape)"
   ]
  },
  {
   "cell_type": "markdown",
   "metadata": {},
   "source": [
    "In Jupyter it's easier to display results with pandas:"
   ]
  },
  {
   "cell_type": "code",
   "execution_count": null,
   "metadata": {},
   "outputs": [],
   "source": [
    "import pandas as pd\n",
    "pd.DataFrame(tfidf_result).head()"
   ]
  },
  {
   "cell_type": "markdown",
   "metadata": {},
   "source": [
    "There are many versions of tf-idf, some use different smoothing, use additional logarithm for tf part and so on. Each transforms corpora a little differently, and appropriate should be used based on effect we would like to obtain.\n",
    "\n",
    "### Summary\n",
    "This constitutes the first NLP-related part of our course and we have gathered some useful and interesting informations \n",
    "\n",
    "### References\n",
    "\n",
    "[1] Natural Language Processing with Python, Edward Loper, Ewan Klein, Steven Bird. O'Reilly 2009\n",
    "\n",
    "[2] Applied Text Analysis with Python, Tony Ojeda , Rebecca Bilbro , Benjamin Bengfort. O'Reilly 2018\n",
    "\n",
    "[3] Feature Engineering for Machine Learning, Amanda Casari , Alice Zheng. O'Reilly 2018"
   ]
  }
 ],
 "metadata": {
  "kernelspec": {
   "display_name": "Python 3",
   "language": "python",
   "name": "python3"
  },
  "language_info": {
   "codemirror_mode": {
    "name": "ipython",
    "version": 3
   },
   "file_extension": ".py",
   "mimetype": "text/x-python",
   "name": "python",
   "nbconvert_exporter": "python",
   "pygments_lexer": "ipython3",
   "version": "3.6.9"
  }
 },
 "nbformat": 4,
 "nbformat_minor": 4
}
